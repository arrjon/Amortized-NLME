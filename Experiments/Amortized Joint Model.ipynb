{
 "cells": [
  {
   "cell_type": "markdown",
   "source": [
    "# Joint Model"
   ],
   "metadata": {
    "collapsed": false
   },
   "id": "da52e2228f3f4a6f"
  },
  {
   "cell_type": "code",
   "execution_count": null,
   "outputs": [],
   "source": [
    "import numpy as np\n",
    "from scipy.special import expit  # sigmoid aka logistic function\n",
    "import matplotlib.pyplot as plt"
   ],
   "metadata": {
    "collapsed": false
   },
   "id": "7f8001c6e9ffb259"
  },
  {
   "cell_type": "code",
   "execution_count": null,
   "outputs": [],
   "source": [
    "insidenz = lambda t: np.sin(t*2*np.pi/100)/100 + 2/100 "
   ],
   "metadata": {
    "collapsed": false
   },
   "id": "db9b9199d6e03382"
  },
  {
   "cell_type": "code",
   "execution_count": null,
   "outputs": [],
   "source": [
    "time = np.linspace(0, 100, 100)\n",
    "plt.plot(time, insidenz(time), label='insidenz')\n",
    "plt.title('Joint Model')\n",
    "plt.legend()\n",
    "plt.show()"
   ],
   "metadata": {
    "collapsed": false
   },
   "id": "7e30782c73ec0b52"
  },
  {
   "cell_type": "markdown",
   "source": [
    "# Estimation of the hazard function"
   ],
   "metadata": {
    "collapsed": false
   },
   "id": "9c019c9d26511d22"
  },
  {
   "cell_type": "code",
   "execution_count": null,
   "outputs": [],
   "source": [
    "import itertools\n",
    "from typing import Optional\n",
    "from functools import partial\n",
    "from bayesflow.simulation import Simulator\n",
    "from inference.base_nlme_model import NlmeBaseAmortizer\n",
    "from bayesflow import diagnostics"
   ],
   "metadata": {
    "collapsed": false
   },
   "id": "c0206bb798daa60d"
  },
  {
   "cell_type": "code",
   "execution_count": null,
   "outputs": [],
   "source": [
    "class linearModel(NlmeBaseAmortizer):\n",
    "    def __init__(self, name: str = 'myModel'):\n",
    "        # define names of parameters\n",
    "        param_names = ['intercept', 'slope', 'error-variance']\n",
    "\n",
    "        # define prior values (for log-parameters)\n",
    "        prior_mean = np.array([np.log(2500), -3, -2])\n",
    "        prior_cov = np.diag([1, 1, 0.1])\n",
    "        self.prior_type = 'normal'\n",
    "\n",
    "        super().__init__(name=name,\n",
    "                         param_names=param_names,\n",
    "                         prior_mean=prior_mean,\n",
    "                         prior_cov=prior_cov)\n",
    "\n",
    "        self.simulator = Simulator(batch_simulator_fun=partial(self.batch_simulator))\n",
    "        \n",
    "    # define simulator\n",
    "    @staticmethod\n",
    "    def batch_simulator(param_batch: np.ndarray, time: Optional[np.ndarray] = None, \n",
    "                        maxtime: int = 100, with_noise: bool = True) -> np.ndarray:\n",
    "        param_batch = np.exp(param_batch)\n",
    "\n",
    "        if param_batch.ndim == 1:  # so not (batch_size, params)\n",
    "            # just a single parameter set\n",
    "            param_batch = param_batch[np.newaxis, :]\n",
    "\n",
    "        if time is None:\n",
    "            n_measurements = np.random.randint(1, 5)\n",
    "            time = np.random.uniform(1, maxtime, n_measurements)\n",
    "            time.sort()\n",
    "\n",
    "        # simulate data\n",
    "        y = np.zeros((param_batch.shape[0], time.size, 2))\n",
    "        for p_id, params in enumerate(param_batch):\n",
    "            # model plus noise\n",
    "            y[p_id, :, 0] = params[0] * np.exp(-params[1] * time)\n",
    "            if with_noise:\n",
    "                y[p_id, :, 0] *= ( 1 + params[2] * np.random.normal(loc=0, scale=1, size=time.size))\n",
    "            y[p_id, :, 1] = time / maxtime\n",
    "\n",
    "        # add censoring\n",
    "        y[:, :, 0] = np.log(np.clip(y[:, :, 0], a_min=0.001, a_max=2500))\n",
    "        return y\n",
    "        \n",
    "    def load_amortizer_configuration(self, model_idx: int = 0, load_best: bool = False) -> str:\n",
    "        self.n_epochs = 10\n",
    "        bidirectional_LSTM = [False]\n",
    "        n_coupling_layers = [2, 3]\n",
    "        n_dense_layers_in_coupling = [2]\n",
    "        coupling_design = ['affine']\n",
    "        summary_network_type = ['sequence']\n",
    "\n",
    "        combinations = list(itertools.product(bidirectional_LSTM, n_coupling_layers,\n",
    "                                              n_dense_layers_in_coupling, coupling_design, summary_network_type))\n",
    "\n",
    "        (self.bidirectional_LSTM,\n",
    "         self.n_coupling_layers,\n",
    "         self.n_dense_layers_in_coupling,\n",
    "         self.coupling_design,\n",
    "         self.summary_network_type) = combinations[model_idx]\n",
    "\n",
    "        model_name = f'amortizer-toyModel-{self.prior_type}' \\\n",
    "                     f'-{self.summary_network_type}-summary' \\\n",
    "                     f'-{\"Bi-LSTM\" if self.bidirectional_LSTM else \"LSTM\"}' \\\n",
    "                     f'-{self.n_coupling_layers}layers' \\\n",
    "                     f'-{self.n_dense_layers_in_coupling}coupling-{self.coupling_design}' \\\n",
    "                     f'-{self.n_epochs}epochs'\n",
    "        return model_name\n",
    "        \n",
    "    def plot_example(self, params: Optional[np.ndarray] = None) -> None:\n",
    "        raise NotImplementedError('Not implemented yet.')\n",
    "        \n",
    "    def prepare_plotting(self, data: np.ndarray, params: np.ndarray, ax: Optional[plt.Axes] = None) -> plt.Axes:\n",
    "        raise NotImplementedError('Not implemented yet.')"
   ],
   "metadata": {
    "collapsed": false
   },
   "id": "aa3c962595d63ec8"
  },
  {
   "cell_type": "code",
   "execution_count": null,
   "outputs": [],
   "source": [
    "toy_model = linearModel()"
   ],
   "metadata": {
    "collapsed": false
   },
   "id": "9ca5288f4f41b87b"
  },
  {
   "cell_type": "code",
   "execution_count": null,
   "outputs": [],
   "source": [
    "for i in range(10):\n",
    "    prior_sample = toy_model.prior(1)['prior_draws']\n",
    "    yt = toy_model.simulator(prior_sample)['sim_data']\n",
    "    plt.plot(yt[0, :, 1], np.exp(yt[0, :, 0]))\n",
    "plt.xlabel('time')\n",
    "plt.ylabel('antibody')\n",
    "plt.yscale('log')\n",
    "plt.title('Simulated data')\n",
    "plt.ylim(0.001, 2500)\n",
    "plt.show()"
   ],
   "metadata": {
    "collapsed": false
   },
   "id": "8e18acad5970cbc1"
  },
  {
   "cell_type": "code",
   "execution_count": null,
   "outputs": [],
   "source": [
    "trainer = toy_model.build_trainer('../networks/' + toy_model.network_name)"
   ],
   "metadata": {
    "collapsed": false
   },
   "id": "31a03de1e53eb719"
  },
  {
   "cell_type": "code",
   "execution_count": null,
   "outputs": [],
   "source": [
    "history = trainer.train_online(epochs=10,\n",
    "                               iterations_per_epoch=100,\n",
    "                               batch_size=128,\n",
    "                               early_stopping=True,\n",
    "                               validation_sims=100)"
   ],
   "metadata": {
    "collapsed": false
   },
   "id": "18b4d2daeda774dc"
  },
  {
   "cell_type": "raw",
   "source": [
    "fig_losses = diagnostics.plot_losses(history['train_losses'], val_losses=history['val_losses'],\n",
    "                                     moving_average=True)"
   ],
   "metadata": {
    "collapsed": false
   },
   "id": "f8ea28da7a02a"
  },
  {
   "cell_type": "code",
   "execution_count": null,
   "outputs": [],
   "source": [
    "new_sims = toy_model.generate_simulations_from_prior(trainer=trainer, n_samples=2500)\n",
    "posterior_draws = toy_model.draw_posterior_samples(data=new_sims['summary_conditions'], n_samples=100)"
   ],
   "metadata": {
    "collapsed": false
   },
   "id": "928f01db3a5cd6d0"
  },
  {
   "cell_type": "code",
   "execution_count": null,
   "outputs": [],
   "source": [
    "fig_sbc = diagnostics.plot_sbc_histograms(post_samples=posterior_draws,\n",
    "                                          prior_samples=new_sims['parameters'],\n",
    "                                          param_names=toy_model.log_param_names)"
   ],
   "metadata": {
    "collapsed": false
   },
   "id": "6bb2149d5da4fe81"
  },
  {
   "cell_type": "code",
   "execution_count": null,
   "outputs": [],
   "source": [
    "from inference.helper_functions import create_mixed_effect_model_param_names\n",
    "\n",
    "np.random.seed(42)\n",
    "toy_samples = toy_model.prior(100)['prior_draws']\n",
    "toy_samples[:, -2:] = toy_model.prior_mean[-2:]\n",
    "toy_data = toy_model.simulator(toy_samples)['sim_data']\n",
    "\n",
    "mixed_effect_params_names = create_mixed_effect_model_param_names(toy_model.param_names, \n",
    "                                                                  cov_type='diag')"
   ],
   "metadata": {
    "collapsed": false
   },
   "id": "a2e1b117b7c00880"
  },
  {
   "cell_type": "code",
   "execution_count": null,
   "outputs": [],
   "source": [
    "fixed_indices = np.array([4,5])\n",
    "fixed_values = np.array([-np.log(0.001), -np.log(0.001)])"
   ],
   "metadata": {
    "collapsed": false
   },
   "id": "77113159e6869f67"
  },
  {
   "cell_type": "code",
   "execution_count": null,
   "outputs": [],
   "source": [
    "from inference.inference_functions import run_population_optimization\n",
    "\n",
    "result_optimization, obj_fun_amortized = run_population_optimization(\n",
    "    individual_model=toy_model,\n",
    "    data=toy_data,\n",
    "    param_names=mixed_effect_params_names,\n",
    "    cov_type='diag',\n",
    "    n_multi_starts=10,\n",
    "    n_samples_opt=100,\n",
    "    covariates_bounds=None,\n",
    "    covariates=None,\n",
    "    n_covariates_params=0,\n",
    "    covariate_mapping=None,\n",
    "    x_fixed_indices=fixed_indices,\n",
    "    x_fixed_vals=fixed_values,\n",
    "    file_name=None, # f'../output/{model_name}-{cov_type}-n_data_{n_data}.hdf5',\n",
    "    verbose=True,\n",
    "    trace_record=True,\n",
    "    pesto_multi_processes=10,\n",
    "    result=None #result_optimization\n",
    "    )"
   ],
   "metadata": {
    "collapsed": false
   },
   "id": "fe615d93e64fde35"
  },
  {
   "cell_type": "code",
   "execution_count": null,
   "outputs": [],
   "source": [
    "result_optimization.optimize_result.x[0]"
   ],
   "metadata": {
    "collapsed": false
   },
   "id": "ba7d2865159cbb9c"
  },
  {
   "cell_type": "code",
   "execution_count": null,
   "outputs": [],
   "source": [
    "toy_samples.mean(axis=0), -np.log(toy_samples.var(axis=0))"
   ],
   "metadata": {
    "collapsed": false
   },
   "id": "6a48f6a03acb0895"
  },
  {
   "cell_type": "code",
   "execution_count": null,
   "outputs": [],
   "source": [
    "# todo: then try to fit the hazard function with the joint model"
   ],
   "metadata": {
    "collapsed": false
   },
   "id": "fcbd55f281085923"
  },
  {
   "cell_type": "code",
   "execution_count": null,
   "outputs": [],
   "source": [
    "# generate data\n",
    "np.random.seed(42)\n",
    "\n",
    "linear_pars = 2500, 0.03\n",
    "hazard_pars = 10, 0.1\n",
    "random_variance = 1\n",
    "error_variance = 0.1\n",
    "\n",
    "def hazard_function(beta, t, log_ad_t):\n",
    "    return beta[0] * insidenz(t) * ( 1 - expit(beta[1] * log_ad_t ))"
   ],
   "metadata": {
    "collapsed": false
   },
   "id": "7ddf97f636646818"
  },
  {
   "cell_type": "code",
   "execution_count": null,
   "outputs": [],
   "source": [
    "def generate_data():\n",
    "    re = 1 #np.exp(np.random.normal(0, random_variance))\n",
    "    log_params = np.log(np.array([linear_pars[0]*re, linear_pars[1], error_variance]))\n",
    "    random_start = np.random.uniform(0, 50)\n",
    "    time = np.linspace(random_start, 100, int(100-random_start))\n",
    "    obs_data = toy_model.batch_simulator(log_params, time=time-random_start)[0]  # only return antibody data\n",
    "    \n",
    "    # get hazard function\n",
    "    h_obs = hazard_function(hazard_pars, time, obs_data[:, 0])\n",
    "    # sample infection event\n",
    "    infection_event = np.random.uniform(0, 1, len(h_obs)) < h_obs\n",
    "    infection_event_index = next((i for i, x in enumerate(infection_event) if x), None)\n",
    "    if infection_event_index is None:\n",
    "        event_is_censored = True\n",
    "        infection_event_index = len(infection_event) - 1\n",
    "    else:\n",
    "        event_is_censored = False\n",
    "    # cut of data\n",
    "    obs_data = obs_data[:infection_event_index]\n",
    "    # maximum of 4 measurements\n",
    "    m_index = np.random.choice(len(time[:infection_event_index]), min(4, len(time[:infection_event_index])), replace=False)\n",
    "    m_index.sort()\n",
    "    return log_params, obs_data[m_index], time[m_index], time[infection_event_index], event_is_censored, random_start"
   ],
   "metadata": {
    "collapsed": false
   },
   "id": "b93fbf20069e5a6d"
  },
  {
   "cell_type": "code",
   "execution_count": null,
   "outputs": [],
   "source": [
    "#np.random.seed(42)\n",
    "log_params_i, obs_data, time, infection_event, event_is_censored, vaccine_date = generate_data()\n",
    "log_params_i, obs_data, time, infection_event, vaccine_date, event_is_censored"
   ],
   "metadata": {
    "collapsed": false
   },
   "id": "8b6c77682d6f4920"
  },
  {
   "cell_type": "code",
   "execution_count": null,
   "outputs": [],
   "source": [
    "plt.scatter(time, np.exp(obs_data[:, 0]), label='antibody')\n",
    "plt.xlim(0,100)\n",
    "plt.ylim(0,2500)\n",
    "plt.vlines(infection_event, ymin=0, ymax=2500, color='r')\n",
    "plt.show()"
   ],
   "metadata": {
    "collapsed": false
   },
   "id": "dd8e9e893499440e"
  },
  {
   "cell_type": "code",
   "execution_count": null,
   "outputs": [],
   "source": [
    "import scipy.integrate as integrate"
   ],
   "metadata": {
    "collapsed": false
   },
   "id": "add0f8792c9522a8"
  },
  {
   "cell_type": "code",
   "execution_count": null,
   "outputs": [],
   "source": [
    "def log_hazard_term(evet_time_i, event_i_is_censored, hazard_pars, log_mixed_pars, batch_simulator):\n",
    "    \n",
    "    h_func = lambda t: float(hazard_function(hazard_pars, t, \n",
    "                                             log_ad_t=batch_simulator(log_mixed_pars, \n",
    "                                                             time=np.array([t]), \n",
    "                                                             with_noise=False)[0, :, 0]\n",
    "                                             )\n",
    "                             )\n",
    "    integrand, err = integrate.quad(h_func, 0, evet_time_i)\n",
    "    s = np.exp(-integrand)\n",
    "    \n",
    "    if event_i_is_censored:\n",
    "        return np.log(s)\n",
    "    else:\n",
    "        return np.log(s * float(h_func(evet_time_i)))"
   ],
   "metadata": {
    "collapsed": false
   },
   "id": "6148cc1e79d0e5d"
  },
  {
   "cell_type": "code",
   "execution_count": 130,
   "outputs": [
    {
     "data": {
      "text/plain": "((10, 0.1), 39.52704858306626, False)"
     },
     "execution_count": 130,
     "metadata": {},
     "output_type": "execute_result"
    }
   ],
   "source": [
    "param_samples = toy_model.draw_posterior_samples(data=obs_data, n_samples=100)\n",
    "hazard_pars = 10, 0.1\n",
    "hazard_pars, infection_event, event_is_censored"
   ],
   "metadata": {
    "collapsed": false,
    "ExecuteTime": {
     "end_time": "2023-11-28T18:26:12.089586Z",
     "start_time": "2023-11-28T18:26:12.032445Z"
    }
   },
   "id": "53b4fa16292bd4aa"
  },
  {
   "cell_type": "code",
   "execution_count": 131,
   "outputs": [],
   "source": [
    "joint_model_obs = [{\n",
    "    'obs_data': obs_data,\n",
    "    'time': time,\n",
    "    'infection_event': infection_event,\n",
    "    'event_is_censored': event_is_censored,\n",
    "    'vaccine_date': vaccine_date\n",
    "}]"
   ],
   "metadata": {
    "collapsed": false,
    "ExecuteTime": {
     "end_time": "2023-11-28T18:26:12.274255Z",
     "start_time": "2023-11-28T18:26:12.271986Z"
    }
   },
   "id": "fce437802a59a87a"
  },
  {
   "cell_type": "code",
   "execution_count": 134,
   "outputs": [],
   "source": [
    "def compute_hazard(param_samples: np.ndarray, hazard_pars: np.ndarray) -> np.ndarray:\n",
    "    n_sim, n_samples, _ = param_samples.shape\n",
    "    res = np.zeros((n_sim, n_samples))\n",
    "    for ns in range(n_sim):\n",
    "        infection_event_time_i = joint_model_obs[ns]['infection_event']\n",
    "        event_i_is_censored = joint_model_obs[ns]['event_is_censored']\n",
    "        for ps in range(n_samples):\n",
    "            \n",
    "            h_func = lambda t: hazard_pars[0] * insidenz(t) * ( 1 - expit(hazard_pars[1] * toy_model.batch_simulator(\n",
    "                param_batch=param_samples[ns, ps],\n",
    "                time=np.array([t]), \n",
    "                with_noise=False)[0, :, 0] ))\n",
    "            integrand, err = integrate.quad(h_func, 0, infection_event_time_i)\n",
    "            s = np.exp(-integrand)\n",
    "            \n",
    "            if event_i_is_censored:\n",
    "                res[ns, ps] = np.log(s)\n",
    "            else:\n",
    "                res[ns, ps] = np.log(s * float(h_func(infection_event_time_i)))\n",
    "    return res"
   ],
   "metadata": {
    "collapsed": false,
    "ExecuteTime": {
     "end_time": "2023-11-28T18:26:59.846478Z",
     "start_time": "2023-11-28T18:26:59.836696Z"
    }
   },
   "id": "2a0cfa6730de9627"
  },
  {
   "cell_type": "code",
   "execution_count": 135,
   "outputs": [
    {
     "name": "stdout",
     "output_type": "stream",
     "text": [
      "CPU times: user 415 ms, sys: 5.19 ms, total: 420 ms\n",
      "Wall time: 440 ms\n"
     ]
    },
    {
     "data": {
      "text/plain": "array([[-5.90630652, -5.98826905, -5.87694083, -5.87669564, -5.8843968 ,\n        -5.95653943, -5.92233104, -5.90107245, -5.95696995, -5.91473662,\n        -6.00671019, -5.89935448, -5.91628525, -5.93252014, -5.87360933,\n        -5.87677577, -6.02840375, -5.87214631, -5.8827012 , -5.90082876,\n        -5.92050639, -5.89905767, -6.16098295, -5.87694083, -5.87211389,\n        -5.88830355, -5.94718302, -5.93563017, -5.86188786, -5.94920743,\n        -5.9657974 , -5.86020858, -6.01727707, -5.86662148, -6.00087552,\n        -5.8935193 , -5.92293933, -5.97608958, -5.87694083, -5.87893309,\n        -5.93592609, -5.94936971, -5.86801958, -5.90482503, -5.90392522,\n        -5.87694083, -5.93851572, -5.87694083, -6.31997226, -6.24351385,\n        -5.96603058, -5.9574572 , -5.89211134, -5.97635919, -5.93336535,\n        -5.94645165, -5.87694083, -6.05585599, -5.97503831, -5.8919526 ,\n        -5.96120727, -5.87694083, -5.86610219, -5.93092544, -5.90985912,\n        -5.94383757, -5.88156107, -5.89233174, -5.86993272, -5.87447429,\n        -5.87607314, -5.87694083, -5.8612702 , -5.88293684, -6.04052399,\n        -5.92430513, -6.0364964 , -6.04751907, -5.86936803, -5.86518949,\n        -5.97051837, -5.86216563, -5.98584882, -5.88730369, -5.9239342 ,\n        -5.88416542, -5.87694083, -5.86090898, -5.87536055, -5.91998424,\n        -5.99703922, -6.12350617, -5.99656684, -6.13168922, -5.94509423,\n        -5.87694083, -6.34086301, -5.90281865, -5.89356767, -5.89912197]])"
     },
     "execution_count": 135,
     "metadata": {},
     "output_type": "execute_result"
    }
   ],
   "source": [
    "%%time\n",
    "res = compute_hazard(param_samples[np.newaxis, :, :], hazard_pars)\n",
    "res"
   ],
   "metadata": {
    "collapsed": false,
    "ExecuteTime": {
     "end_time": "2023-11-28T18:27:00.710752Z",
     "start_time": "2023-11-28T18:27:00.271800Z"
    }
   },
   "id": "dd258ab581b4dc4f"
  },
  {
   "cell_type": "code",
   "execution_count": null,
   "outputs": [],
   "source": [],
   "metadata": {
    "collapsed": false
   },
   "id": "cd06b1120a941113"
  }
 ],
 "metadata": {
  "kernelspec": {
   "display_name": "Python 3",
   "language": "python",
   "name": "python3"
  },
  "language_info": {
   "codemirror_mode": {
    "name": "ipython",
    "version": 2
   },
   "file_extension": ".py",
   "mimetype": "text/x-python",
   "name": "python",
   "nbconvert_exporter": "python",
   "pygments_lexer": "ipython2",
   "version": "2.7.6"
  }
 },
 "nbformat": 4,
 "nbformat_minor": 5
}
