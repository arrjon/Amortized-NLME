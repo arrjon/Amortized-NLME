{
 "cells": [
  {
   "cell_type": "markdown",
   "id": "6337b6a3",
   "metadata": {},
   "source": [
    "# Amortized Inference for a NLME Model"
   ]
  },
  {
   "cell_type": "code",
   "execution_count": 1,
   "id": "6eb930b7",
   "metadata": {
    "ExecuteTime": {
     "end_time": "2023-11-20T19:00:29.644971Z",
     "start_time": "2023-11-20T19:00:25.840633Z"
    }
   },
   "outputs": [
    {
     "name": "stderr",
     "output_type": "stream",
     "text": [
      "/Users/jonas.arruda/miniconda/envs/amortizedNLME/lib/python3.10/site-packages/bayesflow/trainers.py:27: TqdmExperimentalWarning: Using `tqdm.autonotebook.tqdm` in notebook mode. Use `tqdm.tqdm` instead to force console mode (e.g. in jupyter console)\n",
      "  from tqdm.autonotebook import tqdm\n"
     ]
    }
   ],
   "source": [
    "import matplotlib.pyplot as plt\n",
    "import numpy as np\n",
    "import pandas as pd\n",
    "from pypesto import visualize, optimize, profile, engine\n",
    "\n",
    "from inference.helper_functions import (create_mixed_effect_model_param_names,\n",
    "                                        analyse_correlation_in_posterior,\n",
    "                                        create_fixed_params)\n",
    "from inference.inference_functions import run_population_optimization\n",
    "from inference.nlme_objective import get_covariance\n",
    "from inference.ploting_routines import (plot_real_vs_synthetic,\n",
    "                                        plot_real_and_estimated,\n",
    "                                        plot_estimated_distributions,\n",
    "                                        plot_normal_distributions,\n",
    "                                        visualize_pesto_result)"
   ]
  },
  {
   "cell_type": "code",
   "execution_count": 2,
   "id": "5fef8f8c",
   "metadata": {
    "ExecuteTime": {
     "end_time": "2023-11-20T19:00:29.646693Z",
     "start_time": "2023-11-20T19:00:29.640099Z"
    }
   },
   "outputs": [],
   "source": [
    "# specify which model to use\n",
    "model_name = ['fröhlich-simple', 'fröhlich-detailed', 'fröhlich-sde', \n",
    "              'pharmacokinetic_model', \n",
    "              'clairon_small_model'][-2]"
   ]
  },
  {
   "cell_type": "markdown",
   "id": "7adcc9cd",
   "metadata": {},
   "source": [
    "# Load individual model"
   ]
  },
  {
   "cell_type": "code",
   "execution_count": 3,
   "id": "7c72e5e2",
   "metadata": {
    "ExecuteTime": {
     "end_time": "2023-11-20T19:01:04.307967Z",
     "start_time": "2023-11-20T19:00:29.644109Z"
    }
   },
   "outputs": [
    {
     "name": "stderr",
     "output_type": "stream",
     "text": [
      "  Activating project at `~/PyCharm Projects/Amortized-NLME/models/SimulatorPharma`\n",
      "[ Info: Precompiling SciMLBasePythonCallExt [2797fd30-2078-5027-980c-4c2c8a19c528]\n",
      "ERROR: LoadError: ArgumentError: Package PythonCall [6099a3de-0909-46bc-b1f4-468b9a2dfc0d] is required but does not seem to be installed:\n",
      " - Run `Pkg.instantiate()` to install all recorded dependencies.\n",
      "\n",
      "Stacktrace:\n",
      " [1] _require(pkg::Base.PkgId, env::String)\n",
      "   @ Base ./loading.jl:1774\n",
      " [2] _require_prelocked(uuidkey::Base.PkgId, env::String)\n",
      "   @ Base ./loading.jl:1660\n",
      " [3] macro expansion\n",
      "   @ ./loading.jl:1648 [inlined]\n",
      " [4] macro expansion\n",
      "   @ ./lock.jl:267 [inlined]\n",
      " [5] require(into::Module, mod::Symbol)\n",
      "   @ Base ./loading.jl:1611\n",
      " [6] include\n",
      "   @ ./Base.jl:457 [inlined]\n",
      " [7] include_package_for_output(pkg::Base.PkgId, input::String, depot_path::Vector{String}, dl_load_path::Vector{String}, load_path::Vector{String}, concrete_deps::Vector{Pair{Base.PkgId, UInt128}}, source::Nothing)\n",
      "   @ Base ./loading.jl:2049\n",
      " [8] top-level scope\n",
      "   @ stdin:3\n",
      "in expression starting at /Users/jonas.arruda/.julia/packages/SciMLBase/XEPyX/ext/SciMLBasePythonCallExt.jl:1\n",
      "in expression starting at stdin:3\n",
      "┌ Error: Error during loading of extension SciMLBasePythonCallExt of SciMLBase, use `Base.retry_load_extensions()` to retry.\n",
      "│   exception =\n",
      "│    1-element ExceptionStack:\n",
      "│    Failed to precompile SciMLBasePythonCallExt [2797fd30-2078-5027-980c-4c2c8a19c528] to \"/Users/jonas.arruda/.julia/compiled/v1.9/SciMLBasePythonCallExt/jl_nHuuFY\".\n",
      "│    Stacktrace:\n",
      "│      [1] error(s::String)\n",
      "│        @ Base ./error.jl:35\n",
      "│      [2] compilecache(pkg::Base.PkgId, path::String, internal_stderr::IO, internal_stdout::IO, keep_loaded_modules::Bool)\n",
      "│        @ Base ./loading.jl:2300\n",
      "│      [3] compilecache\n",
      "│        @ ./loading.jl:2167 [inlined]\n",
      "│      [4] _require(pkg::Base.PkgId, env::Nothing)\n",
      "│        @ Base ./loading.jl:1805\n",
      "│      [5] _require_prelocked(uuidkey::Base.PkgId, env::Nothing)\n",
      "│        @ Base ./loading.jl:1660\n",
      "│      [6] _require_prelocked(uuidkey::Base.PkgId)\n",
      "│        @ Base ./loading.jl:1658\n",
      "│      [7] run_extension_callbacks(extid::Base.ExtensionId)\n",
      "│        @ Base ./loading.jl:1255\n",
      "│      [8] run_extension_callbacks(pkgid::Base.PkgId)\n",
      "│        @ Base ./loading.jl:1290\n",
      "│      [9] run_package_callbacks(modkey::Base.PkgId)\n",
      "│        @ Base ./loading.jl:1124\n",
      "│     [10] _tryrequire_from_serialized(modkey::Base.PkgId, path::String, ocachepath::String, sourcepath::String, depmods::Vector{Any})\n",
      "│        @ Base ./loading.jl:1398\n",
      "│     [11] _require_search_from_serialized(pkg::Base.PkgId, sourcepath::String, build_id::UInt128)\n",
      "│        @ Base ./loading.jl:1494\n",
      "│     [12] _require(pkg::Base.PkgId, env::String)\n",
      "│        @ Base ./loading.jl:1783\n",
      "│     [13] _require_prelocked(uuidkey::Base.PkgId, env::String)\n",
      "│        @ Base ./loading.jl:1660\n",
      "│     [14] macro expansion\n",
      "│        @ ./loading.jl:1648 [inlined]\n",
      "│     [15] macro expansion\n",
      "│        @ ./lock.jl:267 [inlined]\n",
      "│     [16] require(into::Module, mod::Symbol)\n",
      "│        @ Base ./loading.jl:1611\n",
      "│     [17] eval\n",
      "│        @ ./boot.jl:370 [inlined]\n",
      "│     [18] eval\n",
      "│        @ ./Base.jl:68 [inlined]\n",
      "│     [19] pyjlmodule_seval(self::Module, expr::Py)\n",
      "│        @ PythonCall ~/.julia/packages/PythonCall/wXfah/src/jlwrap/module.jl:13\n",
      "│     [20] _pyjl_callmethod(f::Any, self_::Ptr{PythonCall.C.PyObject}, args_::Ptr{PythonCall.C.PyObject}, nargs::Int64)\n",
      "│        @ PythonCall ~/.julia/packages/PythonCall/wXfah/src/jlwrap/base.jl:62\n",
      "│     [21] _pyjl_callmethod(o::Ptr{PythonCall.C.PyObject}, args::Ptr{PythonCall.C.PyObject})\n",
      "│        @ PythonCall.C ~/.julia/packages/PythonCall/wXfah/src/cpython/jlwrap.jl:47\n",
      "└ @ Base loading.jl:1261\n"
     ]
    },
    {
     "name": "stdout",
     "output_type": "stream",
     "text": [
      "using a split network with 2 splits, in each 2 layers of MultiConv1D, a bidirectional LSTM with 256 units and a dense layer with output dimension 22 as summary network\n",
      "using a 8-layer cINN as inference network with 2 layers of design spline\n",
      "prior mean: [-5.   6.5  2.5  2.5  6.5  0.   6.5 -3.  -1.  -1.   0. ]\n",
      "prior covariance diagonal: [4.5 1.  1.  1.  1.  1.  1.  4.5 2.  2.  1. ]\n",
      "Using the PharmacokineticModel\n"
     ]
    },
    {
     "name": "stderr",
     "output_type": "stream",
     "text": [
      "INFO:root:Performing 2 pilot runs with the PharmacokineticModel model...\n",
      "INFO:root:Shape of parameter batch after 2 pilot simulations: (batch_size = 2, 11)\n",
      "INFO:root:Shape of simulation batch after 2 pilot simulations: (batch_size = 2, 26, 4)\n",
      "INFO:root:No optional prior non-batchable context provided.\n",
      "INFO:root:No optional prior batchable context provided.\n",
      "INFO:root:No optional simulation non-batchable context provided.\n",
      "INFO:root:No optional simulation batchable context provided.\n",
      "INFO:root:Loaded loss history from ../networks/amortizer-pharma-split-sequence-summary-Bi-LSTM-8layers-2coupling-spline-500epochs/history_584.pkl.\n",
      "INFO:root:Networks loaded from ../networks/amortizer-pharma-split-sequence-summary-Bi-LSTM-8layers-2coupling-spline-500epochs/ckpt-584\n",
      "INFO:root:Performing a consistency check with provided components...\n",
      "INFO:root:Done.\n"
     ]
    },
    {
     "name": "stdout",
     "output_type": "stream",
     "text": [
      "Model: \"amortized_posterior\"\n",
      "_________________________________________________________________\n",
      " Layer (type)                Output Shape              Param #   \n",
      "=================================================================\n",
      " invertible_network (Inverti  multiple                 924216    \n",
      " bleNetwork)                                                     \n",
      "                                                                 \n",
      " split_network (SplitNetwork  multiple                 1221804   \n",
      " )                                                               \n",
      "                                                                 \n",
      "=================================================================\n",
      "Total params: 2,146,020\n",
      "Trainable params: 2,145,844\n",
      "Non-trainable params: 176\n",
      "_________________________________________________________________\n",
      "None\n"
     ]
    },
    {
     "data": {
      "text/plain": "<Figure size 1000x500 with 1 Axes>",
      "image/png": "[encoded data removed]"
     },
     "metadata": {},
     "output_type": "display_data"
    }
   ],
   "source": [
    "if model_name == 'fröhlich-simple':\n",
    "    from models.froehlich_model_simple import FroehlichModelSimple\n",
    "    individual_model = FroehlichModelSimple(load_best=True)\n",
    "elif model_name == 'fröhlich-detailed':\n",
    "    from models.froehlich_model_detailed import FroehlichModelDetailed\n",
    "    individual_model = FroehlichModelDetailed(load_best=True)\n",
    "elif model_name == 'fröhlich-sde':\n",
    "    from models.froehlich_model_sde import FroehlichModelSDE\n",
    "    individual_model = FroehlichModelSDE(load_best=True)    \n",
    "elif model_name == 'pharmacokinetic_model':\n",
    "    from models.pharmacokinetic_model import PharmacokineticModel\n",
    "    individual_model = PharmacokineticModel(load_best=True)    \n",
    "elif model_name == 'clairon_small_model':\n",
    "    from models.clairon_small_model import ClaironSmallModel\n",
    "    prior_type = ['normal', 'uniform'][0]\n",
    "    individual_model = ClaironSmallModel(load_best=True, prior_type=prior_type)\n",
    "else:\n",
    "    raise NotImplementedError('model not implemented')\n",
    "\n",
    "# assemble simulator and prior\n",
    "trainer = individual_model.build_trainer('../networks/' + individual_model.network_name)\n",
    "individual_model.plot_example()"
   ]
  },
  {
   "cell_type": "markdown",
   "source": [
    "## Load Data"
   ],
   "metadata": {
    "collapsed": false
   },
   "id": "5004f8ac29b11a4e"
  },
  {
   "cell_type": "code",
   "execution_count": 4,
   "outputs": [
    {
     "name": "stdout",
     "output_type": "stream",
     "text": [
      "200 individuals\n"
     ]
    }
   ],
   "source": [
    "# define how many data points are used for optimization\n",
    "n_data = 200\n",
    "load_real_data = False\n",
    "# load data\n",
    "true_pop_parameters = None\n",
    "results_to_compare = None\n",
    "if 'Froehlich' in individual_model.name:\n",
    "    obs_data = individual_model.load_data(n_data=n_data, synthetic=not load_real_data, \n",
    "                                          load_egfp=True, load_d2egfp=False)  # if both are loaded, a 2d-list is returned\n",
    "    if not load_real_data:\n",
    "        true_pop_parameters = individual_model.load_synthetic_parameter(n_data=n_data)\n",
    "    \n",
    "    # load SDE data for comparison\n",
    "    #from models.froehlich_model_sde import FroehlichModelSDE\n",
    "    #model_sde = FroehlichModelSDE(load_best=True)\n",
    "    #obs_data = model_sde.load_data(n_data=n_data, synthetic=True)\n",
    "    #true_pop_parameters_sde = model_sde.load_synthetic_parameter(n_data=n_data)\n",
    "else:\n",
    "    if load_real_data:\n",
    "        obs_data = individual_model.load_data(n_data=n_data)\n",
    "    else:\n",
    "        obs_data, true_pop_parameters = individual_model.load_data(n_data=n_data, synthetic=True, return_synthetic_params=True)\n",
    "\n",
    "print(len(obs_data), 'individuals')"
   ],
   "metadata": {
    "collapsed": false,
    "ExecuteTime": {
     "end_time": "2023-11-20T19:01:05.999828Z",
     "start_time": "2023-11-20T19:01:04.300305Z"
    }
   },
   "id": "b460a0b1044c110e"
  },
  {
   "cell_type": "raw",
   "source": [
    "from models.clairon_small_model import convert_bf_to_observables \n",
    "# make format colum y and measurement time\n",
    "id_full = []\n",
    "y_full = []\n",
    "t_full = []\n",
    "id_full_doses = []\n",
    "dose_amount_full = []\n",
    "dose_time_points_full = []\n",
    "for d_id, d in enumerate(obs_data):\n",
    "    y, t_measurements, doses_time_points, dose_amount = convert_bf_to_observables(d)\n",
    "    id_full.append([d_id]*len(y))\n",
    "    y_full.append(y)\n",
    "    t_full.append(t_measurements)\n",
    "    \n",
    "    id_full_doses.append(d_id)\n",
    "    dose_time_points_full.append(doses_time_points)\n",
    "\n",
    "    \n",
    "t_full = np.array(t_full).flatten()\n",
    "y_full = np.array(y_full).flatten()\n",
    "id_full = np.array(id_full).flatten()\n",
    "id_full_doses = np.array(id_full_doses).flatten()\n",
    "dose_time_points_full = np.array(dose_time_points_full).flatten()\n",
    "\n",
    "data_m = np.stack((id_full, t_full, y_full), axis=0).T\n",
    "data_d = np.concatenate((id_full_doses[:, np.newaxis], dose_time_points_full.reshape(-1, 3)), axis=1)\n",
    "\n",
    "m_df = pd.DataFrame(data_m, columns=['id_hcw', 'days_after_first_dose', 'res_serology'])\n",
    "d_df = pd.DataFrame(data_d, columns=['id_hcw','day_1dose','day_2dose','day_3dose'], )\n",
    "\n",
    "m_df.to_csv('test_measurements.csv', index=False)\n",
    "d_df.to_csv('test_dosages.csv', index=False)"
   ],
   "metadata": {
    "collapsed": false
   },
   "id": "1ef365cf26a6ffac"
  },
  {
   "cell_type": "raw",
   "source": [
    "\n",
    "if not load_real_data:\n",
    "    if model_name == 'fröhlich-small':\n",
    "        path = f'output/results_monolix/small_model/estimated_parameters_synthetic_{n_data}_cells.csv'\n",
    "        results_monolix = pd.read_csv(path, index_col=0, header=0)\n",
    "        results_to_compare = results_monolix[results_monolix.columns[0]].values[[0, 1, 2, 3, 4, 10, 5, 6, 7, 8, 9]]\n",
    "        results_to_compare[5] = np.log(results_to_compare[5])  # sigma to log\n",
    "        results_to_compare = np.concatenate((results_to_compare, [0]))[np.newaxis, :]\n",
    "    elif model_name == 'fröhlich-large':\n",
    "        path = f'output/results_monolix/large_model/synthetic_{n_data}_poppars.csv'\n",
    "        results_monolix = pd.read_csv(path, index_col=0, header=0)\n",
    "        results_to_compare = results_monolix[results_monolix.columns[0]].values[[0, 1, 2, 3, 4, 5, 6, 7, 8, 9, 20,\n",
    "                                                                                 10, 11, 12, 13, 14, 15, 16, 17, 18, 19]]\n",
    "        results_to_compare[10] = np.log(results_to_compare[10])  # sigma to log\n",
    "        results_to_compare = np.concatenate((results_to_compare, [0]))[np.newaxis, :]\n",
    "    elif model_name == 'fröhlich-sde':\n",
    "        pass\n",
    "\n",
    "if False: #model_name == 'pharmacokinetic_model':\n",
    "    raw_nonmem_data = pd.read_csv(f'output/results_nonmem/retries_sunitinib_lognor.csv', delimiter=',',\n",
    "                           index_col=0, header=0)\n",
    "    # remove uninformative columns and add missing columns\n",
    "    raw_nonmem_data = raw_nonmem_data[raw_nonmem_data.columns[[0,1,3,4,5,6,7,9,11,12]+[13,15,18,22]+[14,16,17,19,20,21]+[25,39,40]]]\n",
    "    raw_nonmem_data.sort_values(by=['ofv'], inplace=True)\n",
    "\n",
    "    # remove uninformative columns and add missing columns\n",
    "    corr_names_nonmem = ['eta_1_eta_0', 'eta_2_eta_0', 'eta_2_eta_1', 'eta_3_eta_0', 'eta_3_eta_1', 'eta_3_eta_2']\n",
    "    raw_nonmem_data.columns = full_param_names[:10] + full_param_names[25:29] + corr_names_nonmem + list(raw_nonmem_data.columns[-3:])\n",
    "    # log transform population parameters\n",
    "    raw_nonmem_data[full_param_names[:10]] = raw_nonmem_data[full_param_names[:10]].abs().apply(np.log)\n",
    "    # add variances\n",
    "    raw_nonmem_data[full_param_names[10:25]] = np.zeros(15)\n",
    "    raw_nonmem_data[full_param_names[29]] = 0\n",
    "    # get results to compare\n",
    "    results_to_compare = raw_nonmem_data[full_param_names[:30]+corr_names_nonmem].values\n",
    "\n",
    "if cov_type == 'cholesky':\n",
    "    n_corr = len(param_names) * (len(param_names)-1) // 2\n",
    "    if true_pop_parameters is not None:\n",
    "        # add 0 correlations to true population parameters\n",
    "        true_pop_parameters = np.concatenate((true_pop_parameters, np.zeros(n_corr)), axis=0)\n",
    "    if results_to_compare is not None:\n",
    "        # add 0 correlations to results to compare\n",
    "        # not true for pharmacokinetic model\n",
    "        if model_name != 'pharmacokinetic_model':\n",
    "           results_to_compare = np.concatenate((results_to_compare, np.nan*np.ones((results_to_compare.shape[0], n_corr))), axis=1)"
   ],
   "metadata": {
    "collapsed": false
   },
   "id": "88458dd93f479995"
  },
  {
   "cell_type": "markdown",
   "id": "6e26e6a9",
   "metadata": {},
   "source": [
    "# Estimating Population Parameters\n",
    "\n",
    "Now we want to use the amortizer to generate samples such that we can minimize the negative log-likelihood of the data given the population parameters of the mixed effect model:\n",
    "$$\n",
    "    \\beta^*,\\Psi^* \\approx \n",
    "    \\underset{\\beta,\\Psi}{\\arg\\min} -\\sum_i \\log\\left( \\frac1M \\sum_j^M \\frac{p(\\phi_j \\mid \\beta,\\Psi)}{p(\\phi_j)} \\right).\n",
    "$$\n",
    "\n",
    "Remark: the objective value is not the likelihood value since the sum over $\\log p(y_i)$ is missing.\n",
    "\n",
    "\n",
    "$\\beta$ is called ```theta_population``` in the code.\n",
    "\n",
    "\n",
    "$\\log \\phi$ cell specific parameters, sampled from $\\mathcal{N}(\\beta,\\Psi)$\n",
    "$$\n",
    "    p( \\phi \\mid \\beta,\\Psi) = (2\\pi)^{-k/2}\\vert \\Psi\\vert^{-1/2} \\prod_{l=1}^k \\phi_l^{-1} \\exp \\left(-\\frac12 (\\log \\phi-\\beta)^T \\Psi^{-1}  (\\log \\phi-\\beta) \\right)\n",
    "$$\n",
    "\n",
    "Assumptions to start with: $\\Psi$ is a diagonal matrix, need better parameterization for other types\n",
    "\n",
    "$$\n",
    "    \\beta^*,\\Psi^* \\approx\n",
    "    \\underset{\\beta,\\Psi}{\\arg\\min} -\\sum_i \\left(\\log \\frac1M \\sum_j^M \\frac{p( \\phi_j \\mid \\beta,\\Psi)}{p( \\phi_j)} \\right) \\\\\n",
    "     =  \\underset{\\beta,\\Psi}{\\arg\\min} -\\sum_i \\left(\\log\\left(\\vert \\Psi\\vert^{-1/2} \\right) -\\log M -\n",
    "    \\log\\left(\\vert \\Sigma\\vert^{-1/2}\\right) +\\log \\sum_j^M \\exp \\left(-\\frac12 (\\log\\phi_j-\\beta)^T \\Psi^{-1}  (\\log\\phi_j-\\beta) + \\frac12 (\\log\\phi_j-\\mu)^T \\Sigma^{-1}  (\\log\\phi_j-\\mu) \\right)\\right)\n",
    "$$\n",
    "\n",
    "if the prior is $p( \\phi) = (2\\pi)^{-k/2}\\vert \\Sigma\\vert^{-1/2} \\prod_{l=1}^k \\phi_l^{-1}\\exp \\left(-\\frac12 (\\log \\phi-\\mu)^T \\Sigma^{-1}  (\\log\\phi-\\mu) \\right)$.\n",
    "\n",
    "\n",
    "For purpose of optimization we also parametrize $\\Psi$ by a log-transformation since diagonal entries must be positive."
   ]
  },
  {
   "cell_type": "markdown",
   "id": "eeee0f98",
   "metadata": {},
   "source": [
    "## Define Objective Function\n",
    "\n",
    "- you have to choose the covariance format (diag or cholesky)\n",
    "- if you want to use covariates, you have to specify the covariate mapping to the parameters of the log-normal distribution\n",
    "- a covariate mapping takes in parameter samples (n_indv, n_samples, n_params), covariates (n_indv, n_covariates) and parameter vector with parameters needed to map the covariates into the other parameter from the mixed effects model and returns transformed parameter samples (n_indv, n_samples, n_params)"
   ]
  },
  {
   "cell_type": "code",
   "execution_count": 5,
   "outputs": [],
   "source": [
    "cov_type = ['diag', 'cholesky'][0]\n",
    "use_covariates = False"
   ],
   "metadata": {
    "collapsed": false,
    "ExecuteTime": {
     "end_time": "2023-11-20T19:01:06.001227Z",
     "start_time": "2023-11-20T19:01:05.998257Z"
    }
   },
   "id": "23617593538cd87d"
  },
  {
   "cell_type": "code",
   "execution_count": 6,
   "outputs": [],
   "source": [
    "# build covariate mapping if needed\n",
    "covariates_bounds = None\n",
    "covariate_mapping = None\n",
    "n_covariates_params = 0\n",
    "covariates = None\n",
    "covariates_names = []\n",
    "\n",
    "if use_covariates and 'fröhlich' in model_name:\n",
    "    # experiment specific gamma\n",
    "    covariates_names = ['$factor-\\gamma_{d2eGFP}$', '$factor-var-\\gamma_{d2eGFP}$']\n",
    "    n_covariates_params = len(covariates_names)\n",
    "    covariates_bounds = np.array([[-5, 5], [-2, 2]])\n",
    "elif use_covariates and 'clairon' in model_name:\n",
    "    covariates_names = ['c_age', 'c_gender']\n",
    "    n_covariates_params = len(covariates_names)\n",
    "    covariates_bounds = np.array([[-1, 1], [-1, 1]])"
   ],
   "metadata": {
    "collapsed": false,
    "ExecuteTime": {
     "end_time": "2023-11-20T19:01:06.010361Z",
     "start_time": "2023-11-20T19:01:06.002549Z"
    }
   },
   "id": "d1ef4562ceda1aab"
  },
  {
   "cell_type": "code",
   "execution_count": 7,
   "outputs": [],
   "source": [
    "if use_covariates and 'fröhlich' in model_name:\n",
    "    index_gamma = [i for i, x in enumerate(individual_model.param_names) if 'gamma' in x][0]\n",
    "    \n",
    "    # obs_data consists of two groups, first group is eGFP, second group is d2eGFP\n",
    "    if covariates is None:\n",
    "        assert len(obs_data) == 2, 'you should load two groups of data'\n",
    "        covariates = np.concatenate((np.zeros(len(obs_data[0])), np.ones(len(obs_data[1]))))[:, np.newaxis]\n",
    "        obs_data = np.concatenate((obs_data[0], obs_data[1]))\n",
    "    \n",
    "    \n",
    "    def multi_experiment_mapping(beta: np.ndarray,\n",
    "                                 psi_inverse: np.ndarray,\n",
    "                                 covariates: np.ndarray,\n",
    "                                 covariate_params: np.ndarray):\n",
    "        # add param_of_cov*covariates to parameter gamma\n",
    "        # covariate_params[0] < 0 expected since lifetime of d2eGFP is lower than eGFP\n",
    "        beta_transformed = np.repeat(beta[np.newaxis, :], covariates.shape[0], axis=0)\n",
    "        psi_inverse_transformed = np.repeat(psi_inverse[np.newaxis, :, :], covariates.shape[0], axis=0)\n",
    "        \n",
    "        shit_beta = covariate_params[0] * covariates.flatten()  # flatten since only one covariate\n",
    "        shift_var = covariate_params[1] * covariates.flatten()\n",
    "        \n",
    "        for s_id in range(covariates.shape[0]):\n",
    "            # individual_param_i = gamma_{eGFP} + gamma_{d2eGFP} * c + random_effect_{eGFP}, c in {0,1}\n",
    "            beta_transformed[s_id, index_gamma] += shit_beta[s_id]\n",
    "            # variance needs to be constrained\n",
    "            temp_var = 1. / psi_inverse_transformed[s_id, index_gamma, index_gamma] + shift_var[s_id]\n",
    "            if temp_var  <= 0.001:\n",
    "                temp_var = 0.001\n",
    "            psi_inverse_transformed[s_id, index_gamma, index_gamma] = 1. / temp_var\n",
    "        return beta_transformed, psi_inverse_transformed\n",
    "    \n",
    "    covariate_mapping = multi_experiment_mapping\n",
    "    \n",
    "    \n",
    "elif use_covariates and 'clairon' in model_name:\n",
    "    _, covariates = individual_model.load_data(n_data=n_data, load_covariates=True)\n",
    "    \n",
    "    # todo: this is still the old kind of mapping\n",
    "    def additive_covariate_mapping(param_samples: np.ndarray, \n",
    "                                   covariates: np.ndarray, \n",
    "                                   covariate_params: np.ndarray, \n",
    "                                   threshold: float = 0.001):\n",
    "        # add param_of_cov*covariates to parameters\n",
    "        additive_cov = np.sum(covariate_params*covariates, axis=1)\n",
    "        transformed_param_samples = np.exp(param_samples)\n",
    "        \n",
    "        for s_id in range(transformed_param_samples.shape[0]):\n",
    "            # estimating exp(pop_mean), param_cov, variance of random_effect with 0 mean\n",
    "            # exp(individual_param_i) = exp(pop_mean + random_effect) + param_cov * cov_i\n",
    "            transformed_param_samples[s_id, :, :] -= additive_cov[s_id]  # cov on one parameter\n",
    "        # if parameters are negative, set to threshold\n",
    "        transformed_param_samples[transformed_param_samples < 0] = threshold\n",
    "        param_samples_cov = np.log(transformed_param_samples)\n",
    "        return param_samples_cov\n",
    "    \n",
    "    \n",
    "    def multiplicative_covariate_mapping(param_samples: np.ndarray, \n",
    "                                         covariates: np.ndarray, \n",
    "                                         covariate_params: np.ndarray):\n",
    "        # add param_of_cov*covariates to parameters\n",
    "        additive_cov = np.sum(covariate_params*covariates, axis=1)\n",
    "        \n",
    "        for s_id in range(param_samples.shape[0]):\n",
    "            # estimating exp(pop_mean), param_cov, variance of random_effect with 0 mean\n",
    "            # individual_param_i = pop_mean + random_effect + param_cov * cov_i\n",
    "            # since parameters are log-normal distributed, results in a multiplicative effect\n",
    "            param_samples[s_id, :, :] -= additive_cov[s_id] \n",
    "        return param_samples\n",
    "    \n",
    "    covariate_mapping = [additive_covariate_mapping, multiplicative_covariate_mapping][0]"
   ],
   "metadata": {
    "collapsed": false,
    "ExecuteTime": {
     "end_time": "2023-11-20T19:01:06.025053Z",
     "start_time": "2023-11-20T19:01:06.010238Z"
    }
   },
   "id": "e20e10a5c8a8d7ed"
  },
  {
   "cell_type": "code",
   "execution_count": 8,
   "outputs": [
    {
     "name": "stdout",
     "output_type": "stream",
     "text": [
      "['pop-$\\\\theta_1$', 'pop-$\\\\theta_2-\\\\eta_1$', 'pop-$\\\\theta_4-\\\\eta_3$', 'pop-$\\\\theta_5$', 'pop-$\\\\theta_6-\\\\eta_2$', 'pop-$\\\\theta_7$', 'pop-$\\\\theta_8$', 'pop-$\\\\theta_{10}$', 'pop-$\\\\theta_{12}$', 'pop-$\\\\theta_{13}$', 'pop-$\\\\eta_4$', 'var-$\\\\theta_1$', 'var-$\\\\theta_2-\\\\eta_1$', 'var-$\\\\theta_4-\\\\eta_3$', 'var-$\\\\theta_5$', 'var-$\\\\theta_6-\\\\eta_2$', 'var-$\\\\theta_7$', 'var-$\\\\theta_8$', 'var-$\\\\theta_{10}$', 'var-$\\\\theta_{12}$', 'var-$\\\\theta_{13}$', 'var-$\\\\eta_4$']\n"
     ]
    }
   ],
   "source": [
    "mixed_effect_params_names = create_mixed_effect_model_param_names(individual_model.param_names, \n",
    "                                                                  cov_type=cov_type,\n",
    "                                                                  covariates_names=covariates_names)\n",
    "print(mixed_effect_params_names)"
   ],
   "metadata": {
    "collapsed": false,
    "ExecuteTime": {
     "end_time": "2023-11-20T19:01:06.025435Z",
     "start_time": "2023-11-20T19:01:06.012944Z"
    }
   },
   "id": "5417beb3c5989773"
  },
  {
   "cell_type": "markdown",
   "source": [
    "### Analyse correlations between parameters"
   ],
   "metadata": {
    "collapsed": false
   },
   "id": "54ebfa71aac1a925"
  },
  {
   "cell_type": "code",
   "execution_count": 9,
   "outputs": [
    {
     "name": "stdout",
     "output_type": "stream",
     "text": [
      "Parameter pairs of high correlation in individual posterior: []\n"
     ]
    },
    {
     "data": {
      "text/plain": "<Figure size 640x480 with 2 Axes>",
      "image/png": "[encoded data removed]"
     },
     "metadata": {},
     "output_type": "display_data"
    }
   ],
   "source": [
    "high_correlation_pairs = analyse_correlation_in_posterior(model=individual_model, \n",
    "                                                          mixed_effect_params_names=mixed_effect_params_names, \n",
    "                                                          obs_data=obs_data,\n",
    "                                                          threshold_corr=0.5)\n",
    "print('Parameter pairs of high correlation in individual posterior:', np.array(mixed_effect_params_names)[high_correlation_pairs])"
   ],
   "metadata": {
    "collapsed": false,
    "ExecuteTime": {
     "end_time": "2023-11-20T19:01:07.279614Z",
     "start_time": "2023-11-20T19:01:06.016271Z"
    }
   },
   "id": "de47356800882bb0"
  },
  {
   "cell_type": "markdown",
   "source": [
    "## Fixed and Random Effects\n",
    "\n",
    "Decide which parameters to fix\n",
    "- a fixed effect is modeled as a random effect with variance 0 (all parameters follow a normal distribution)\n",
    "- variance of error parameters in the individual model are usually supposed to be a fixed parameter in the population model\n",
    "- correlations with these error parameters are usually fixed to 0\n"
   ],
   "metadata": {
    "collapsed": false
   },
   "id": "49d1c49ce426eda8"
  },
  {
   "cell_type": "code",
   "execution_count": 10,
   "outputs": [
    {
     "name": "stdout",
     "output_type": "stream",
     "text": [
      "['pop-$\\\\theta_1$', 'pop-$\\\\theta_2-\\\\eta_1$', 'pop-$\\\\theta_4-\\\\eta_3$', 'pop-$\\\\theta_5$', 'pop-$\\\\theta_6-\\\\eta_2$', 'pop-$\\\\theta_7$', 'pop-$\\\\theta_8$', 'pop-$\\\\theta_{10}$', 'pop-$\\\\theta_{12}$', 'pop-$\\\\theta_{13}$', 'pop-$\\\\eta_4$', 'var-$\\\\theta_1$', 'var-$\\\\theta_2-\\\\eta_1$', 'var-$\\\\theta_4-\\\\eta_3$', 'var-$\\\\theta_5$', 'var-$\\\\theta_6-\\\\eta_2$', 'var-$\\\\theta_7$', 'var-$\\\\theta_8$', 'var-$\\\\theta_{10}$', 'var-$\\\\theta_{12}$', 'var-$\\\\theta_{13}$', 'var-$\\\\eta_4$']\n"
     ]
    }
   ],
   "source": [
    "if 'Froehlich' in individual_model.name:\n",
    "    # fix variance of error parameters and correlations with sigma if cholesky covariance is used\n",
    "    fix_names = ['var-$\\sigma$'] + [name for name in mixed_effect_params_names if '\\sigma' in name and 'corr_' in name]\n",
    "    fixed_values = [0] * len(fix_names)\n",
    "elif 'Pharmacokinetic' in individual_model.name:\n",
    "    fix_error_var = ['var-$\\\\theta_{12}$', 'var-$\\\\theta_{13}$']\n",
    "    fix_error_var_val = [0] * len(fix_error_var)\n",
    "    # fix variance of fixed parameters\n",
    "    fixed_effects_var = ['var-$\\\\theta_1$', 'var-$\\\\theta_5$', 'var-$\\\\theta_7$', 'var-$\\\\theta_8$', \n",
    "                         'var-$\\\\theta_{10}$', 'var-$\\\\theta_{12}$', 'var-$\\\\theta_{13}$']\n",
    "    fixed_effects_var_val = [0] * len(fixed_effects_var)\n",
    "    # fix mean of random effect\n",
    "    random_effect_mean = ['pop-$\\eta_4$']\n",
    "    random_effect_mean_val = [0]\n",
    "    \n",
    "    # put all fixed parameters together\n",
    "    fix_names = fix_error_var + fixed_effects_var + random_effect_mean\n",
    "    fixed_values = fix_error_var_val + fixed_effects_var_val + random_effect_mean_val\n",
    "    \n",
    "    # if correlations are used, only allow the same as in the original model\n",
    "    # hence correlations with the error parameter are fixed as well\n",
    "    if cov_type == 'cholesky':\n",
    "        non_fix_corr = ['corr_$\\\\theta_2-\\\\eta_1$_$\\\\theta_6-\\\\eta_2$', \n",
    "                        'corr_$\\\\theta_4-\\\\eta_3$_$\\\\theta_6-\\\\eta_2$', \n",
    "                        'corr_$\\\\theta_4-\\\\eta_3$_$\\\\eta_4$']\n",
    "        fixed_corr = [x for x in mixed_effect_params_names if 'corr_' in x and x not in non_fix_corr]\n",
    "        fix_names += fixed_corr\n",
    "        fixed_values += [0] * len(fixed_corr)\n",
    "    \n",
    "elif 'Clairon' in individual_model.name:\n",
    "    fix_names = ['var-error_constant', 'var-error_prop'] + [name for name in mixed_effect_params_names if \n",
    "                                                            'error' in name and 'corr_' in name]\n",
    "    fixed_values = [0] * len(fix_names)\n",
    "else:\n",
    "    raise NotImplementedError('model not yet implemented')\n",
    "    \n",
    "# \"fix\" is here in the context of parameters which are not optimized\n",
    "fixed_indices, fixed_values = create_fixed_params(fix_names=fix_names, \n",
    "                                                  fixed_values=fixed_values,\n",
    "                                                  params_list=mixed_effect_params_names, \n",
    "                                                  fix_low_correlation=True,  # only applies to cholesky covariance\n",
    "                                                  high_correlation_pairs=high_correlation_pairs)\n",
    "print(mixed_effect_params_names)\n",
    "# note: inf values in fixed_values will be set to upper or lower bound respectively"
   ],
   "metadata": {
    "collapsed": false,
    "ExecuteTime": {
     "end_time": "2023-11-20T19:01:07.279802Z",
     "start_time": "2023-11-20T19:01:07.276894Z"
    }
   },
   "id": "7f7555718ecb980b"
  },
  {
   "cell_type": "code",
   "execution_count": 11,
   "outputs": [],
   "source": [
    "# fix covariates parameters\n",
    "#fixed_indices = np.append(fixed_indices, 12)\n",
    "#fixed_values = np.append(fixed_values, -2)"
   ],
   "metadata": {
    "collapsed": false,
    "ExecuteTime": {
     "end_time": "2023-11-20T19:01:07.281573Z",
     "start_time": "2023-11-20T19:01:07.279405Z"
    }
   },
   "id": "25776538ae4bdffc"
  },
  {
   "cell_type": "markdown",
   "source": [
    "# Run Population Optimization"
   ],
   "metadata": {
    "collapsed": false
   },
   "id": "61f974f1d64fa036"
  },
  {
   "cell_type": "code",
   "execution_count": null,
   "id": "89a717d4",
   "metadata": {
    "is_executing": true,
    "ExecuteTime": {
     "start_time": "2023-11-20T19:01:07.282762Z"
    }
   },
   "outputs": [
    {
     "name": "stdout",
     "output_type": "stream",
     "text": [
      "Warning: pesto_multi_processes >= n_multi_starts. All starts use the same sample from the posterior. This is not recommended and you should increase 'n_multi_starts'.\n"
     ]
    },
    {
     "name": "stderr",
     "output_type": "stream",
     "text": [
      "Multi-start optimization:   0%|          | 0/1 [00:00<?, ?it/s]"
     ]
    },
    {
     "name": "stdout",
     "output_type": "stream",
     "text": [
      "                                  free    lb_full   ub_full\n",
      "pop-$\\theta_1$                    True -11.363961  1.363961\n",
      "pop-$\\theta_2-\\eta_1$             True   3.500000  9.500000\n",
      "pop-$\\theta_4-\\eta_3$             True  -0.500000  5.500000\n",
      "pop-$\\theta_5$                    True  -0.500000  5.500000\n",
      "pop-$\\theta_6-\\eta_2$             True   3.500000  9.500000\n",
      "pop-$\\theta_7$                    True  -3.000000  3.000000\n",
      "pop-$\\theta_8$                    True   3.500000  9.500000\n",
      "pop-$\\theta_{10}$                 True  -9.363961  3.363961\n",
      "pop-$\\theta_{12}$                 True  -5.242641  3.242641\n",
      "pop-$\\theta_{13}$                 True  -5.242641  3.242641\n",
      "pop-$\\eta_4$                     False  -3.000000  3.000000\n",
      "$-\\log$ (var-$\\theta_1$)         False  -6.610187  6.117736\n",
      "$-\\log$ (var-$\\theta_2-\\eta_1$)   True  -6.610187  6.117736\n",
      "$-\\log$ (var-$\\theta_4-\\eta_3$)   True  -6.610187  6.117736\n",
      "$-\\log$ (var-$\\theta_5$)         False  -6.610187  6.117736\n",
      "$-\\log$ (var-$\\theta_6-\\eta_2$)   True  -6.610187  6.117736\n",
      "$-\\log$ (var-$\\theta_7$)         False  -6.610187  6.117736\n",
      "$-\\log$ (var-$\\theta_8$)         False  -6.610187  6.117736\n",
      "$-\\log$ (var-$\\theta_{10}$)      False  -6.610187  6.117736\n",
      "$-\\log$ (var-$\\theta_{12}$)      False  -6.610187  6.117736\n",
      "$-\\log$ (var-$\\theta_{13}$)      False  -6.610187  6.117736\n",
      "$-\\log$ (var-$\\eta_4$)            True  -6.610187  6.117736\n",
      "                             fixed value\n",
      "pop-$\\eta_4$                    0.000000\n",
      "$-\\log$ (var-$\\theta_1$)        6.907755\n",
      "$-\\log$ (var-$\\theta_5$)        6.907755\n",
      "$-\\log$ (var-$\\theta_7$)        6.907755\n",
      "$-\\log$ (var-$\\theta_8$)        6.907755\n",
      "$-\\log$ (var-$\\theta_{10}$)     6.907755\n",
      "$-\\log$ (var-$\\theta_{12}$)     6.907755\n",
      "$-\\log$ (var-$\\theta_{13}$)     6.907755\n"
     ]
    },
    {
     "name": "stderr",
     "output_type": "stream",
     "text": [
      "\n",
      "  0%|          | 0/10 [00:00<?, ?it/s]\u001B[A"
     ]
    }
   ],
   "source": [
    "%%time\n",
    "result_optimization, obj_fun_amortized = run_population_optimization(\n",
    "    individual_model=individual_model,\n",
    "    data=obs_data,\n",
    "    param_names=mixed_effect_params_names,\n",
    "    cov_type=cov_type,\n",
    "    n_multi_starts=10,\n",
    "    n_samples_opt=100,\n",
    "    covariates_bounds=covariates_bounds,\n",
    "    covariates=covariates,\n",
    "    n_covariates_params=n_covariates_params,\n",
    "    covariate_mapping=covariate_mapping,\n",
    "    x_fixed_indices=fixed_indices,\n",
    "    x_fixed_vals=fixed_values,\n",
    "    file_name=None, # f'../output/{model_name}-{cov_type}-n_data_{n_data}.hdf5',\n",
    "    verbose=True,\n",
    "    trace_record=True,\n",
    "    pesto_multi_processes=10,\n",
    "    result=None #result_optimization\n",
    "    )\n",
    "\n",
    "result_optimization.optimize_result.summary()"
   ]
  },
  {
   "cell_type": "raw",
   "source": [
    "from pypesto import store\n",
    "store.write_result(\n",
    "    result=result_optimization,\n",
    "    filename='../output/test-forehlich-simple-10000samples.hdf5',\n",
    "    problem=True,\n",
    "    optimize=True,\n",
    ")"
   ],
   "metadata": {
    "collapsed": false
   },
   "id": "c38e83c22d425feb"
  },
  {
   "cell_type": "code",
   "execution_count": null,
   "id": "e7d40875",
   "metadata": {
    "scrolled": false,
    "is_executing": true
   },
   "outputs": [],
   "source": [
    "visualize_pesto_result(result_optimization, use_batch_coloring=True, obj_fun_amortized=obj_fun_amortized)"
   ]
  },
  {
   "cell_type": "code",
   "execution_count": null,
   "outputs": [],
   "source": [
    "# show best result\n",
    "results = result_optimization.optimize_result.x\n",
    "estimated_beta = results[0][:individual_model.n_params]\n",
    "estimated_var = np.exp(-results[0][individual_model.n_params:individual_model.n_params*2])\n",
    "if n_covariates_params == 0:\n",
    "    estimated_psi = get_covariance(results[0][individual_model.n_params:], \n",
    "                                   covariance_format=cov_type, param_dim=individual_model.n_params)\n",
    "else:\n",
    "    estimated_psi = get_covariance(results[0][individual_model.n_params:-n_covariates_params],\n",
    "                                   covariance_format=cov_type, param_dim=individual_model.n_params)\n",
    "    estimated_covariates_params = results[0][-n_covariates_params:]\n",
    "\n",
    "display(pd.DataFrame(estimated_beta,\n",
    "                     index=mixed_effect_params_names[:individual_model.n_params],\n",
    "                     columns=['estimated population parameters']))\n",
    "display(pd.DataFrame(estimated_var,\n",
    "                     index=mixed_effect_params_names[individual_model.n_params:individual_model.n_params*2],\n",
    "                     columns=['estimated population parameters']))\n",
    "if cov_type == 'cholesky' or use_covariates:\n",
    "    display(pd.DataFrame(results[0][individual_model.n_params*2:],\n",
    "                         index=mixed_effect_params_names[individual_model.n_params*2:],\n",
    "                         columns=['estimated population parameters']))\n",
    "    \n",
    "display(pd.DataFrame(np.var([r for r in results], axis=0),\n",
    "                     index=mixed_effect_params_names,\n",
    "                     columns=['variance of multi-start results']))"
   ],
   "metadata": {
    "collapsed": false,
    "is_executing": true
   },
   "id": "6441a2da84ce4968"
  },
  {
   "cell_type": "raw",
   "source": [
    "print('mean')\n",
    "for p_id in range(individual_model.n_params):\n",
    "    print(np.mean(obj_fun_amortized.param_samples[:, :, p_id].flatten()))\n",
    "print('var')\n",
    "for p_id in range(individual_model.n_params):\n",
    "    print(np.var(obj_fun_amortized.param_samples[:, :, p_id].flatten()))"
   ],
   "metadata": {
    "collapsed": false
   },
   "id": "f9772eb1f6fbc1ed"
  },
  {
   "cell_type": "code",
   "execution_count": null,
   "outputs": [],
   "source": [
    "plot_normal_distributions(estimated_beta, estimated_psi, \n",
    "                          title='Population Parameter Distribution',\n",
    "                          lb=result_optimization.problem.lb,\n",
    "                          ub=result_optimization.problem.ub,\n",
    "                          param_names_plot=individual_model.log_param_names)\n",
    "\n",
    "plot_normal_distributions(individual_model.prior_mean, individual_model.prior_cov, \n",
    "                          title='Prior Parameter Distribution with Individual Posterior Samples',\n",
    "                          posterior_samples=obj_fun_amortized.param_samples,\n",
    "                          lb=result_optimization.problem.lb,\n",
    "                          ub=result_optimization.problem.ub,\n",
    "                          param_names_plot=individual_model.log_param_names)\n",
    "\n",
    "if true_pop_parameters is not None:\n",
    "    if true_pop_parameters.ndim == 2:\n",
    "        true_mean = np.mean(true_pop_parameters, axis=0)\n",
    "        true_cov = np.diag(np.var(true_pop_parameters, axis=0))\n",
    "    else:\n",
    "        true_mean = true_pop_parameters[:individual_model.n_params]\n",
    "        true_cov = np.diag(true_pop_parameters[individual_model.n_params:])\n",
    "    true_cov[true_cov < 0.001] = 0.001  # smaller cannot be estimated\n",
    "    \n",
    "    plot_normal_distributions(true_mean, \n",
    "                              true_cov, \n",
    "                              title='True Population Parameter Distribution',\n",
    "                              #posterior_samples=obj_fun_amortized.param_samples,\n",
    "                              lb=result_optimization.problem.lb,\n",
    "                              ub=result_optimization.problem.ub,\n",
    "                              param_names_plot=individual_model.log_param_names)"
   ],
   "metadata": {
    "collapsed": false,
    "is_executing": true
   },
   "id": "fdac67b65f2d7a97"
  },
  {
   "cell_type": "code",
   "execution_count": null,
   "id": "d875e9ee",
   "metadata": {},
   "outputs": [],
   "source": [
    "if 'fröhlich' in model_name:\n",
    "    plot_real_vs_synthetic(estimated_mean=estimated_beta,\n",
    "                           estimated_cov=estimated_psi,\n",
    "                           data=obs_data[:n_data//2] if n_covariates_params > 0 else obs_data,\n",
    "                           model_name=individual_model.name,\n",
    "                           n_trajectories=n_data//2 if n_covariates_params > 0 else n_data,\n",
    "                           simulator=individual_model.simulator,\n",
    "                           #save_fig='dif_ode', #model_name+'_eGFP_dif' if load_real_data else model_name+'_synthetic_dif',\n",
    "                           #estimation_function=np.median,\n",
    "                           ylim=(-1.,1.),\n",
    "                           seed=0)\n",
    "    plot_real_and_estimated(estimated_mean=estimated_beta,\n",
    "                           estimated_cov=estimated_psi,\n",
    "                           data=obs_data[:n_data//2] if n_covariates_params > 0 else obs_data,\n",
    "                           model_name=individual_model.name,\n",
    "                           n_trajectories=n_data//2 if n_covariates_params > 0 else n_data,\n",
    "                           simulator=individual_model.simulator,\n",
    "                           #save_fig=model_name+'_eGFP_estimate' if load_real_data else model_name+'_synthetic_estimate',\n",
    "                           seed=0)\n",
    "    \n",
    "    if n_covariates_params > 0:\n",
    "        estimated_beta_d2, estimated_inv_psi_d2 = covariate_mapping(estimated_beta, \n",
    "                                                                    np.linalg.inv(estimated_psi), \n",
    "                                                                    covariates, \n",
    "                                                                    estimated_covariates_params)\n",
    "        estimated_beta_d2 = estimated_beta_d2[-1]  # only second group, mean is the same for the whole group\n",
    "        estimated_inv_psi_d2 = estimated_inv_psi_d2[-1]\n",
    "        estimated_psi_d2 = np.linalg.inv(estimated_inv_psi_d2)\n",
    "        \n",
    "        plot_real_vs_synthetic(estimated_mean=estimated_beta_d2,\n",
    "                           estimated_cov=estimated_psi_d2,\n",
    "                           data=obs_data[n_data//2:],\n",
    "                           model_name=individual_model.name,\n",
    "                           n_trajectories=n_data//2,\n",
    "                           simulator=individual_model.simulator,\n",
    "                           ylim=(-1.,1.),\n",
    "                           seed=0)\n",
    "        plot_real_and_estimated(estimated_mean=estimated_beta_d2,\n",
    "                               estimated_cov=estimated_psi_d2,\n",
    "                               data=obs_data[n_data//2:],\n",
    "                               model_name=individual_model.name,\n",
    "                               n_trajectories=n_data//2,\n",
    "                               simulator=individual_model.simulator,\n",
    "                               seed=0)"
   ]
  },
  {
   "cell_type": "code",
   "execution_count": null,
   "id": "28dc461f",
   "metadata": {},
   "outputs": [],
   "source": [
    "plot_parameter_estimates(results_transformed,\n",
    "                         param_names_plot=full_param_names,\n",
    "                         prior_mean=prior_mean,\n",
    "                         prior_std=prior_std,\n",
    "                         true_parameters=true_pop_parameters,\n",
    "                         save_fig=False)"
   ]
  },
  {
   "cell_type": "code",
   "execution_count": null,
   "id": "3fcfe5d6",
   "metadata": {},
   "outputs": [],
   "source": [
    "plot_estimated_distributions(results_transformed[0],\n",
    "                             param_names_plot=param_names,\n",
    "                             prior_mean=prior_mean,\n",
    "                             prior_std=prior_std,\n",
    "                             true_parameters=true_pop_parameters,\n",
    "                             save_fig=False)"
   ]
  },
  {
   "cell_type": "code",
   "execution_count": null,
   "id": "b5521063",
   "metadata": {},
   "outputs": [],
   "source": [
    "if results_to_compare is not None:\n",
    "    compare_list = [results_transformed[0], results_to_compare[0]]\n",
    "    plot_parameter_estimates(compare_list, param_names_plot=full_param_names,\n",
    "                         prior_mean=model.prior_mean,\n",
    "                         prior_std=model.prior_std,\n",
    "                         true_parameters=true_pop_parameters,\n",
    "                         run_names=['BayesFlow', 'Baseline'],\n",
    "                         save_fig=False)\n",
    "\n",
    "    print('Baseline Estimated Parameters')\n",
    "    plot_parameter_estimates(results_to_compare, param_names_plot=full_param_names,\n",
    "                         prior_mean=model.prior_mean,\n",
    "                         prior_std=model.prior_std,\n",
    "                         save_fig=False)"
   ]
  },
  {
   "cell_type": "markdown",
   "id": "da70f2e8",
   "metadata": {},
   "source": [
    "# Uncertainty Analysis"
   ]
  },
  {
   "cell_type": "markdown",
   "id": "a186fb11",
   "metadata": {},
   "source": [
    "Uncertainty based on profiles -> more accurate"
   ]
  },
  {
   "cell_type": "code",
   "execution_count": null,
   "id": "846ca6f3",
   "metadata": {},
   "outputs": [],
   "source": [
    "profile_options = profile.ProfileOptions(\n",
    "    min_step_size=0.0005, #0.001\n",
    "    step_size_factor=1.1, #1.25\n",
    "    delta_ratio_max=0.05, #0.1\n",
    "    default_step_size=0.005, #0.01\n",
    "    ratio_min=0.01, #0.145\n",
    ")\n",
    "\n",
    "result_optimization = profile.parameter_profile(\n",
    "    problem=result_optimization.problem,\n",
    "    result=result_optimization,\n",
    "    optimizer=optimize.ScipyOptimizer(),\n",
    "    engine=engine.MultiProcessEngine(10),\n",
    "    #profile_index=np.array([0]),\n",
    "    #result_index=0, # index from which optimization result profiling should be started\n",
    "    #profile_options=profile_options,\n",
    "    #filename=f'output/uncertainty/{model.name}_cells_{n_data}_samples_{50}.hd5',\n",
    "    #overwrite=True\n",
    ")"
   ]
  },
  {
   "cell_type": "code",
   "execution_count": null,
   "outputs": [],
   "source": [
    "import matplotlib\n",
    "\n",
    "matplotlib.rcdefaults()  # for resetting to defaults\n",
    "plt.rcParams.update({'font.size': 14,\n",
    "                     #'text.usetex': True,\n",
    "                     \"font.family\": \"serif\",\n",
    "                     \"font.serif\": [\"Computer Modern Roman\"],\n",
    "                     'axes.titlesize': 'small',\n",
    "                     'axes.labelsize': 'small',\n",
    "                     'xtick.labelsize': 'xx-small', # todo: change back to small\n",
    "                     'ytick.labelsize': 'small',\n",
    "                     'legend.fontsize': 'small',\n",
    "                     #'figure.dpi': 600,\n",
    "                     'figure.figsize': (16,12)}) #\n",
    "colors = ['#1f78b4', '#a6cee3', '#b2df8a','#33a02c','#fb9a99']"
   ],
   "metadata": {
    "collapsed": false
   },
   "id": "ff1f595e405f9776"
  },
  {
   "cell_type": "code",
   "execution_count": null,
   "id": "786a1501",
   "metadata": {},
   "outputs": [],
   "source": [
    "ax = visualize.profiles(result_optimization, size=(16,12))\n",
    "#plt.savefig('plots/synthetic_profiles_small_stochastic_data.pdf', bbox_inches='tight', dpi=600, format='pdf')\n",
    "plt.show()"
   ]
  },
  {
   "cell_type": "code",
   "execution_count": null,
   "id": "02e078a3",
   "metadata": {},
   "outputs": [],
   "source": [
    "ax = visualize.profile_cis(result_optimization) #,\n",
    "                                  #profile_indices=[0,1,2,3,4,5,6,7,8,9,10,11])\n",
    "ax.set_title('Approximate Confidence Intervals \\n Based on Profiles')\n",
    "plt.tight_layout()\n",
    "#plt.savefig('plots/synthetic_FIM_profiles_cis.png')\n",
    "plt.show()"
   ]
  },
  {
   "cell_type": "raw",
   "source": [
    "if model_name == 'pharmacokinetic_model':\n",
    "    plt.scatter(np.arange(1, len(raw_data['ofv'])+1-15), -raw_data['ofv'][:-15])\n",
    "    plt.yscale('log')\n",
    "    plt.show()"
   ],
   "metadata": {
    "collapsed": false
   },
   "id": "3435c9c56bfb6b28"
  },
  {
   "cell_type": "raw",
   "source": [
    "# todo: outdated\n",
    "if model_name == 'pharmacokinetic_model':\n",
    "    x_names = [result_optimization.problem.x_names[ix] for ix in profile_indices]\n",
    "    x_names[11] = 'var $\\\\eta_0$'\n",
    "    x_names[12] = 'var $\\\\eta_1$'\n",
    "    x_names[13] = 'var $\\\\eta_2$'\n",
    "    x_names[14] = 'var $\\\\eta_3$'\n",
    "\n",
    "    n_results_compare = 100\n",
    "    results_compare_min = np.min(results_to_compare[:n_results_compare], axis=0)\n",
    "    results_compare_max = np.max(results_to_compare[:n_results_compare], axis=0)\n",
    "    intervals_compare = np.array([results_compare_min, results_compare_max]).T\n",
    "\n",
    "    baseline_params = [results_to_compare[0][ix] for ix in profile_indices]\n",
    "    intervals_compare_non_fixed = [intervals_compare[ix] for ix in profile_indices]\n",
    "\n",
    "    # wt and DOS are not removed from the prior\n",
    "    prior_mean_non_fixed = [model.prior_mean[ix] for ix in profile_indices if ix <= model.n_params]\n",
    "    prior_mean_non_fixed[-1] = model.prior_mean[14+2]\n",
    "    prior_std_non_fixed = np.array([model.prior_std[ix] for ix in profile_indices if ix <= model.n_params])\n",
    "    prior_std_non_fixed[-1] = model.prior_std[14+2]\n",
    "    prior_intervals = np.array([prior_mean_non_fixed - 1.96*prior_std_non_fixed,\n",
    "                                prior_mean_non_fixed + 1.96*prior_std_non_fixed]).T\n",
    "\n",
    "    plt.figure(figsize=(8,6))\n",
    "    plt.title('\\\\bf{C}', loc='left')\n",
    "    for y, (ci_l, ci_u) in enumerate(prior_intervals):\n",
    "        plt.plot([ci_l, ci_u], [y, y], linestyle='--', color='g', label='95\\% Prior-Region' if y == 0 else None)\n",
    "\n",
    "    for y, (l, u) in enumerate(intervals_compare_non_fixed):\n",
    "        if y < 11:\n",
    "            plt.plot([l, u], [y, y], marker='|', color='b', label=f'Range of Best Fits Baseline' if y == 0 else None)\n",
    "            plt.plot(baseline_params[y], y, marker='x', color='y', label='Optimal Fit Baseline' if y == 0 else None)\n",
    "        else:\n",
    "            # convert variance params\n",
    "            plt.plot([np.exp(-u), np.exp(-l)], [y, y], marker='|', color='b')\n",
    "            plt.plot(np.exp(-baseline_params[y]), y, marker='x', color='y')\n",
    "\n",
    "    for y, (ci_l, ci_u) in enumerate(intervals):\n",
    "        if y < 11:\n",
    "            plt.plot([ci_l, ci_u], [y, y], marker='|', color='r', label='CI Amortized NLME' if y == 0 else None)\n",
    "        else:\n",
    "            # convert variance params\n",
    "            plt.plot([np.exp(-ci_u), np.exp(-ci_l)], [y, y], marker='|', color='r')\n",
    "\n",
    "    #plt.xscale('symlog')\n",
    "    plt.yticks(ticks=np.arange(len(x_names)), labels=x_names)\n",
    "    plt.xlabel('Parameter Value')\n",
    "    plt.legend()\n",
    "    plt.show()"
   ],
   "metadata": {
    "collapsed": false
   },
   "id": "2ea454315255f0a0"
  },
  {
   "cell_type": "markdown",
   "id": "35ac88c2",
   "metadata": {},
   "source": [
    "Uncertainty based on FIM"
   ]
  },
  {
   "cell_type": "code",
   "execution_count": null,
   "id": "c6a4ae8c",
   "metadata": {},
   "outputs": [],
   "source": [
    "result_optimization = profile.approximate_parameter_profile(\n",
    "    problem=result_optimization.problem,\n",
    "    result=result_optimization,\n",
    "    #profile_index=np.array([1, 0, 0, 0, 0, 0, 0, 0, 0, 0, 0, 0]),\n",
    "    #result_index=0, # index from which optimization result profiling should be started\n",
    ")"
   ]
  },
  {
   "cell_type": "code",
   "execution_count": null,
   "id": "82a9ce00",
   "metadata": {},
   "outputs": [],
   "source": [
    "visualize.profiles(result_optimization)\n",
    "#plt.savefig('plots/synthetic_FIM_profiles.png')\n",
    "plt.show()"
   ]
  },
  {
   "cell_type": "code",
   "execution_count": null,
   "outputs": [],
   "source": [
    "n_indv = obs_data.shape[0]\n",
    "confidence_ratio = profile.chi2_quantile_to_ratio(alpha=0.95, df=n_indv-(model.n_params*2))\n",
    "\n",
    "confidence_intervals = np.zeros((model.n_params*2, 2))\n",
    "\n",
    "for param_idx in range(model.n_params*2):\n",
    "    try:\n",
    "        xs = result_optimization.profile_result.list[0][param_idx]['x_path'][param_idx]\n",
    "        ratios = result_optimization.profile_result.list[0][0]['ratio_path']\n",
    "        confidence_intervals[param_idx] = profile.calculate_approximate_ci(xs, ratios,\n",
    "                                                                            confidence_ratio=confidence_ratio)\n",
    "    except TypeError:\n",
    "        print(f'for {full_param_names[param_idx]} confidence interval could not be estimated')\n",
    "\n",
    "confidence_intervals"
   ],
   "metadata": {
    "collapsed": false
   },
   "id": "c875c48b2d412283"
  },
  {
   "cell_type": "code",
   "execution_count": null,
   "outputs": [],
   "source": [],
   "metadata": {
    "collapsed": false
   },
   "id": "a8d4fffc09c3b1cf"
  }
 ],
 "metadata": {
  "kernelspec": {
   "display_name": "Python 3 (ipykernel)",
   "language": "python",
   "name": "python3"
  },
  "language_info": {
   "codemirror_mode": {
    "name": "ipython",
    "version": 3
   },
   "file_extension": ".py",
   "mimetype": "text/x-python",
   "name": "python",
   "nbconvert_exporter": "python",
   "pygments_lexer": "ipython3",
   "version": "3.9.16"
  }
 },
 "nbformat": 4,
 "nbformat_minor": 5
}
