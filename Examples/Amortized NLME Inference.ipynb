{
 "cells": [
  {
   "cell_type": "markdown",
   "id": "6337b6a3",
   "metadata": {},
   "source": [
    "# Amortized Inference for a NLME Model"
   ]
  },
  {
   "cell_type": "code",
   "id": "6eb930b7",
   "metadata": {},
   "source": [
    "import matplotlib.pyplot as plt\n",
    "import numpy as np\n",
    "import pandas as pd\n",
    "from pypesto import Problem, optimize, sample, visualize, profile, engine\n",
    "from pypesto.objective import Objective, AggregatedObjective, NegLogParameterPriors\n",
    "from scipy import stats\n",
    "\n",
    "from inference.helper_functions import (create_mixed_effect_model_param_names,\n",
    "                                        analyse_correlation_in_posterior,\n",
    "                                        create_fixed_params)\n",
    "from inference.inference_functions import run_population_optimization\n",
    "from inference.ploting_routines import (plot_real_vs_synthetic,\n",
    "                                        plot_real_and_estimated,\n",
    "                                        plot_normal_distributions,\n",
    "                                        visualize_pesto_result)"
   ],
   "outputs": [],
   "execution_count": null
  },
  {
   "cell_type": "code",
   "id": "5fef8f8c",
   "metadata": {},
   "source": [
    "# specify which model to use\n",
    "model_name = ['fröhlich-simple', 'fröhlich-detailed', 'fröhlich-sde', \n",
    "              'pharmacokinetic_model', \n",
    "              'dePillis'][-1]"
   ],
   "outputs": [],
   "execution_count": null
  },
  {
   "cell_type": "markdown",
   "id": "7adcc9cd",
   "metadata": {},
   "source": [
    "# Load individual model"
   ]
  },
  {
   "cell_type": "code",
   "id": "7c72e5e2",
   "metadata": {},
   "source": [
    "prior_type = ['normal', 'uniform'][0]\n",
    "if model_name == 'fröhlich-simple':\n",
    "    from models.froehlich_model_simple import FroehlichModelSimple\n",
    "    individual_model = FroehlichModelSimple(load_best=True, prior_type=prior_type)\n",
    "elif model_name == 'fröhlich-detailed':\n",
    "    from models.froehlich_model_detailed import FroehlichModelDetailed\n",
    "    individual_model = FroehlichModelDetailed(load_best=True, prior_type=prior_type)\n",
    "elif model_name == 'fröhlich-sde':\n",
    "    from models.froehlich_model_sde import FroehlichModelSDE\n",
    "    individual_model = FroehlichModelSDE(load_best=True, prior_type=prior_type)    \n",
    "elif model_name == 'pharmacokinetic_model':\n",
    "    from models.pharmacokinetic_model import PharmacokineticModel\n",
    "    individual_model = PharmacokineticModel(load_best=True)    \n",
    "elif model_name == 'dePillis':\n",
    "    from models.de_pillis_model import dePillisModel\n",
    "    individual_model = dePillisModel(load_best=True)\n",
    "else:\n",
    "    raise NotImplementedError('model not implemented')\n",
    "\n",
    "# assemble simulator and prior\n",
    "trainer = individual_model.build_trainer('../networks/' + individual_model.network_name)\n",
    "individual_model.plot_example()"
   ],
   "outputs": [],
   "execution_count": null
  },
  {
   "cell_type": "markdown",
   "source": [
    "## Load Data"
   ],
   "metadata": {
    "collapsed": false
   },
   "id": "5004f8ac29b11a4e"
  },
  {
   "cell_type": "code",
   "source": [
    "# define how many data points are used for optimization\n",
    "n_data = 1000\n",
    "load_real_data = True\n",
    "# load data\n",
    "true_pop_parameters = None\n",
    "results_to_compare = None\n",
    "if 'Froehlich' in individual_model.name:\n",
    "    obs_data = individual_model.load_data(n_data=n_data, synthetic=not load_real_data, \n",
    "                                          load_egfp=True, load_d2egfp=False)  # if both are loaded, a 2d-list is returned\n",
    "    if not load_real_data:\n",
    "        true_pop_parameters = individual_model.load_synthetic_parameter(n_data=n_data)\n",
    "    \n",
    "    # load SDE data for comparison\n",
    "    #from models.froehlich_model_sde import FroehlichModelSDE\n",
    "    #model_sde = FroehlichModelSDE(load_best=True)\n",
    "    #obs_data = model_sde.load_data(n_data=n_data, synthetic=True)\n",
    "    #true_pop_parameters_sde = model_sde.load_synthetic_parameter(n_data=n_data)\n",
    "else:\n",
    "    if load_real_data:\n",
    "        obs_data = individual_model.load_data(n_data=n_data)\n",
    "    else:\n",
    "        obs_data, true_pop_parameters = individual_model.load_data(n_data=n_data, synthetic=True, \n",
    "                                                                   return_synthetic_params=True)\n",
    "\n",
    "n_data = len(obs_data)  # in case less data is available\n",
    "print(len(obs_data), 'individuals')"
   ],
   "metadata": {
    "collapsed": false
   },
   "id": "b460a0b1044c110e",
   "outputs": [],
   "execution_count": null
  },
  {
   "metadata": {},
   "cell_type": "raw",
   "source": [
    "# create monolix dataset\n",
    "from models.de_pillis_model import convert_bf_to_observables\n",
    "\n",
    "patients_df = []\n",
    "dosings_df = []\n",
    "for i, o in enumerate(obs_data):\n",
    "    y, t_measurements, doses_time_points, infected_before_first_dose = convert_bf_to_observables(o)\n",
    "    patient_df = pd.DataFrame(\n",
    "        {'id_hcw': i, \n",
    "         'days_after_first_dose': t_measurements,\n",
    "         'res_serology': y, \n",
    "         'infection_bef_first_dose': infected_before_first_dose,\n",
    "         'gender': None,\n",
    "         'age': None,\n",
    "         'job_title': None,\n",
    "         })\n",
    "    dosing_list = [{'id_hcw': i, \n",
    "        'day_1dose': doses_time_points[0],\n",
    "        'day_2dose': doses_time_points[1],\n",
    "        'day_3dose': doses_time_points[2],\n",
    "        }] * len(t_measurements)\n",
    "    \n",
    "    patients_df.append(patient_df)\n",
    "    dosings_df.extend(dosing_list)\n",
    "patients_df = pd.concat(patients_df)\n",
    "dosings_df = pd.DataFrame(dosings_df)\n",
    "\n",
    "# save to csv\n",
    "patients_df.to_csv('../data/dePillis/bf_data_measurements_synthetic.csv', index=False)\n",
    "dosings_df.to_csv('../data/dePillis/bf_data_dosages_synthetic.csv', index=False)"
   ],
   "id": "a6117055829b1f00"
  },
  {
   "cell_type": "markdown",
   "id": "6e26e6a9",
   "metadata": {},
   "source": [
    "# Estimating Population Parameters\n",
    "\n",
    "Now we want to use the amortizer to generate samples such that we can minimize the negative log-likelihood of the data given the population parameters of the mixed effect model:\n",
    "$$\n",
    "    \\beta^*,\\Psi^* \\approx \n",
    "    \\underset{\\beta,\\Psi}{\\arg\\min} -\\sum_i \\log\\left( \\frac1M \\sum_j^M \\frac{p(\\phi_j \\mid \\beta,\\Psi)}{p(\\phi_j)} \\right).\n",
    "$$\n",
    "\n",
    "Remark: the objective value is not the likelihood value since the sum over $\\log p(y_i)$ is missing.\n",
    "\n",
    "\n",
    "$\\beta$ is called ```theta_population``` in the code.\n",
    "\n",
    "\n",
    "$\\log \\phi$ cell specific parameters, sampled from $\\mathcal{N}(\\beta,\\Psi)$\n",
    "$$\n",
    "    p( \\phi \\mid \\beta,\\Psi) = (2\\pi)^{-k/2}\\vert \\Psi\\vert^{-1/2} \\prod_{l=1}^k \\phi_l^{-1} \\exp \\left(-\\frac12 (\\log \\phi-\\beta)^T \\Psi^{-1}  (\\log \\phi-\\beta) \\right)\n",
    "$$\n",
    "\n",
    "Assumptions to start with: $\\Psi$ is a diagonal matrix, need better parameterization for other types\n",
    "\n",
    "$$\n",
    "    \\beta^*,\\Psi^* \\approx\n",
    "    \\underset{\\beta,\\Psi}{\\arg\\min} -\\sum_i \\left(\\log \\frac1M \\sum_j^M \\frac{p( \\phi_j \\mid \\beta,\\Psi)}{p( \\phi_j)} \\right) \\\\\n",
    "     =  \\underset{\\beta,\\Psi}{\\arg\\min} -\\sum_i \\left(\\log\\left(\\vert \\Psi\\vert^{-1/2} \\right) -\\log M -\n",
    "    \\log\\left(\\vert \\Sigma\\vert^{-1/2}\\right) +\\log \\sum_j^M \\exp \\left(-\\frac12 (\\log\\phi_j-\\beta)^T \\Psi^{-1}  (\\log\\phi_j-\\beta) + \\frac12 (\\log\\phi_j-\\mu)^T \\Sigma^{-1}  (\\log\\phi_j-\\mu) \\right)\\right)\n",
    "$$\n",
    "\n",
    "if the prior is $p( \\phi) = (2\\pi)^{-k/2}\\vert \\Sigma\\vert^{-1/2} \\prod_{l=1}^k \\phi_l^{-1}\\exp \\left(-\\frac12 (\\log \\phi-\\mu)^T \\Sigma^{-1}  (\\log\\phi-\\mu) \\right)$.\n",
    "\n",
    "\n",
    "For purpose of optimization we also parametrize $\\Psi$ by a log-transformation since diagonal entries must be positive."
   ]
  },
  {
   "cell_type": "markdown",
   "id": "eeee0f98",
   "metadata": {},
   "source": [
    "## Define Objective Function\n",
    "\n",
    "- you have to choose the covariance format (diag or cholesky)\n",
    "- if you want to use covariates, you have to specify the covariate mapping to the parameters of the log-normal distribution\n",
    "- a covariate mapping takes in parameter samples (n_indv, n_samples, n_params), covariates (n_indv, n_covariates) and parameter vector with parameters needed to map the covariates into the other parameter from the mixed effects model and returns transformed parameter samples (n_indv, n_samples, n_params)"
   ]
  },
  {
   "cell_type": "code",
   "source": [
    "cov_type = ['diag', 'cholesky'][0]\n",
    "use_covariates = True\n",
    "\n",
    "mixed_effect_params_names = create_mixed_effect_model_param_names(individual_model.param_names, \n",
    "                                                                  cov_type=cov_type)"
   ],
   "metadata": {
    "collapsed": false
   },
   "id": "23617593538cd87d",
   "outputs": [],
   "execution_count": null
  },
  {
   "cell_type": "code",
   "source": [
    "# build covariate mapping if needed\n",
    "covariates_bounds = None\n",
    "covariate_mapping = None\n",
    "n_covariates_params = 0\n",
    "covariates = None\n",
    "covariates_names = []\n",
    "\n",
    "if use_covariates and 'fröhlich' in model_name:\n",
    "    # experiment specific gamma\n",
    "    gamma_index = [ni for ni, name in enumerate(mixed_effect_params_names) if 'gamma' in name]\n",
    "    gamma_index_cov = [ni for ni, name in enumerate(mixed_effect_params_names[individual_model.n_params:]) if 'gamma' in name]\n",
    "    covariates_names = [name + '-d2eGFP' for name in mixed_effect_params_names if 'gamma' in name]\n",
    "    n_covariates_params = len(covariates_names)\n",
    "    covariates_bounds = np.array([[-5, 5]] * n_covariates_params)\n",
    "    \n",
    "    mixed_effect_params_names = mixed_effect_params_names + covariates_names\n",
    "    \n",
    "elif use_covariates and 'dePillis' in model_name:\n",
    "    covariates_names = ['c_Ab0_not_infection_before_dose', 'c_Ab0_not_infection_before_dose_neg_log_std']\n",
    "    \n",
    "    # Marginal Likelihood\n",
    "    # full model without covariates: 12760-12870\n",
    "    # full model with covariates: 12858\n",
    "    # reduced model (excluding : 11177.08\n",
    "    \n",
    "    # no additional covariates\n",
    "    # covariates_list_de_pillis = []\n",
    "    \n",
    "    # full model\n",
    "    covariates_list_de_pillis = [\n",
    "        'c_Ab0_age', \n",
    "        'c_Ab0_male',\n",
    "        'c_r1_prev_infected', \n",
    "        'c_r1_age', \n",
    "        'c_r1_male',\n",
    "        'c_r2_prev_infected', \n",
    "        'c_r2_age', \n",
    "        'c_r2_male',\n",
    "        'c_r3_prev_infected', \n",
    "        'c_r3_age', \n",
    "        'c_r3_male',\n",
    "        'c_r4_prev_infected', \n",
    "        'c_r4_age', \n",
    "        'c_r4_male', \n",
    "        'c_k1_prev_infected', \n",
    "        'c_k1_age',\n",
    "        'c_k1_male',\n",
    "        'c_k2_prev_infected', \n",
    "        'c_k2_age', \n",
    "        'c_k2_male'\n",
    "    ]\n",
    "    \n",
    "    run_i = 0\n",
    "    \n",
    "    # Get all possible combinations of all lengths\n",
    "    import itertools\n",
    "    all_combinations = []\n",
    "    for r in range(1, 3):\n",
    "        combinations_r = itertools.combinations(covariates_list_de_pillis, r)\n",
    "        all_combinations.extend(combinations_r)\n",
    "\n",
    "    # Convert to a list\n",
    "    all_combinations = [()] + list(all_combinations)\n",
    "    covariates_list_de_pillis = all_combinations[run_i]\n",
    "    print('Covariates:', covariates_list_de_pillis)\n",
    "    \n",
    "    # # model reduced 1\n",
    "    # covariates_list_de_pillis = [\n",
    "    #     'c_Ab0_age', \n",
    "    #     'c_Ab0_male',\n",
    "    #     #'c_r1_prev_infected', \n",
    "    #     'c_r1_age', \n",
    "    #     #'c_r1_male',\n",
    "    #     'c_r2_prev_infected', \n",
    "    #     'c_r2_age', \n",
    "    #     #'c_r2_male',\n",
    "    #     #'c_r3_prev_infected', \n",
    "    #     #'c_r3_age', \n",
    "    #     'c_r3_male',\n",
    "    #     'c_r4_prev_infected', \n",
    "    #     'c_r4_age', \n",
    "    #     #'c_r4_male', \n",
    "    #     'c_k1_prev_infected', \n",
    "    #     'c_k1_age',\n",
    "    #     'c_k1_male',\n",
    "    #     'c_k2_prev_infected', \n",
    "    #     'c_k2_age', \n",
    "    #     'c_k2_male'\n",
    "    # ]\n",
    "    covariates_dict_de_pillis = {name: i+len(covariates_names) for i, name in enumerate(covariates_list_de_pillis)}\n",
    "    covariate_param_mapping = {name: i for name in covariates_list_de_pillis \n",
    "                               for i, p in enumerate(individual_model.param_names) if p in name}\n",
    "    covariate_data_mapping = {name: i for name in covariates_list_de_pillis \n",
    "                               for i, c in enumerate(['prev_infected', 'age', 'male']) if c in name}\n",
    "    \n",
    "    covariates_names += list(covariates_dict_de_pillis.keys())\n",
    "    n_covariates_params = len(covariates_names)\n",
    "    covariates_bounds = np.array([[-10, 10], [-3, -np.log(0.01)]] + [[-5, 5]]*len(covariates_dict_de_pillis))\n",
    "    \n",
    "    mixed_effect_params_names = mixed_effect_params_names + covariates_names\n",
    "    assert len(covariates_names) == covariates_bounds.shape[0]"
   ],
   "metadata": {
    "collapsed": false
   },
   "id": "d1ef4562ceda1aab",
   "outputs": [],
   "execution_count": null
  },
  {
   "cell_type": "code",
   "source": [
    "if use_covariates and 'fröhlich' in model_name:\n",
    "    # obs_data consists of two groups, first group is eGFP, second group is d2eGFP\n",
    "    if covariates is None:\n",
    "        assert len(obs_data) == 2, 'you should load two groups of data'\n",
    "        covariates = np.concatenate((np.zeros(len(obs_data[0])), np.ones(len(obs_data[1]))))[:, np.newaxis]\n",
    "        obs_data = np.concatenate((obs_data[0], obs_data[1]))\n",
    "        n_data = len(obs_data)\n",
    "        \n",
    "    from inference.nlme_objective import get_inverse_covariance\n",
    "    def multi_experiment_mapping(beta: np.ndarray,\n",
    "                                 psi_inverse_vector: np.ndarray,\n",
    "                                 covariates: np.ndarray,\n",
    "                                 covariates_params: np.ndarray):\n",
    "        \"\"\"individual_param_i = gamma_{eGFP} * (1-c) + gamma_{d2eGFP} * c + random_effect_{eGFP}, c in {0,1}\"\"\"        \n",
    "        # add param_of_cov*covariates to parameter gamma\n",
    "        # covariate_params[0] > 0 expected since lifetime of d2eGFP is lower than eGFP\n",
    "        beta_transformed = np.repeat(beta[np.newaxis, :], covariates.shape[0], axis=0)\n",
    "        psi_inverse_vector_transformed = np.repeat(psi_inverse_vector[np.newaxis, :], covariates.shape[0], axis=0)\n",
    "        psi_inverse_transformed = np.zeros((covariates.shape[0], beta.shape[0], beta.shape[0]))\n",
    "                   \n",
    "        # flatten since only one covariate     \n",
    "        beta_transformed[:, gamma_index[0]] = beta_transformed[:, gamma_index[0]] * (1-covariates.flatten()) + covariates_params[0] * covariates.flatten()\n",
    "        for i, c_i in enumerate(gamma_index_cov):\n",
    "            psi_inverse_vector_transformed[:, c_i] = psi_inverse_vector[c_i] * (1-covariates.flatten()) + covariates_params[1+i] * covariates.flatten()\n",
    "        \n",
    "        for s_id in range(covariates.shape[0]):\n",
    "            psi_inverse = get_inverse_covariance(psi_inverse_vector_transformed[s_id],\n",
    "                                                 covariance_format=cov_type,\n",
    "                                                 param_dim=beta.shape[0])\n",
    "            psi_inverse_transformed[s_id, :, :] = psi_inverse\n",
    "        return beta_transformed, psi_inverse_transformed\n",
    "    \n",
    "    covariate_mapping = multi_experiment_mapping\n",
    "    \n",
    "elif use_covariates and 'dePillis' in model_name:\n",
    "    _, covariates = individual_model.load_data(n_data, synthetic=not load_real_data, \n",
    "                                            load_covariates=True)\n",
    "    if len(covariates_dict_de_pillis) == 0:\n",
    "        covariates = covariates[:, 0][:, np.newaxis]\n",
    "    \n",
    "    from inference.nlme_objective import get_inverse_covariance\n",
    "    def previous_infection_mapping(beta: np.ndarray,\n",
    "                                   psi_inverse_vector: np.ndarray,\n",
    "                                   covariates: np.ndarray,\n",
    "                                   covariates_params: np.ndarray):\n",
    "        beta_transformed = np.repeat(beta[np.newaxis, :], covariates.shape[0], axis=0)\n",
    "        psi_inverse_vector_transformed = np.repeat(psi_inverse_vector[np.newaxis, :], covariates.shape[0], axis=0)\n",
    "        psi_inverse_transformed = np.zeros((covariates.shape[0], beta.shape[0], beta.shape[0]))\n",
    "    \n",
    "        # covariates are infection status, age, gender\n",
    "        for k, c_i in covariates_dict_de_pillis.items():\n",
    "            p_index = covariate_param_mapping[k]\n",
    "            beta_transformed[:, p_index] += covariates_params[c_i] * covariates[:,  covariate_data_mapping[k]]\n",
    "        \n",
    "        # Ab0 for not infected before dose\n",
    "        beta_transformed[covariates[:, 0] == 0, 0] = covariates_params[0]\n",
    "        psi_inverse_vector_transformed[covariates[:, 0] == 0, 0] = covariates_params[1]\n",
    "        for s_id in range(covariates.shape[0]):\n",
    "            psi_inverse = get_inverse_covariance(psi_inverse_vector_transformed[s_id],\n",
    "                                                 covariance_format=cov_type,\n",
    "                                                 param_dim=beta.shape[0])\n",
    "            psi_inverse_transformed[s_id, :, :] = psi_inverse\n",
    "        return beta_transformed, psi_inverse_transformed\n",
    "    \n",
    "    covariate_mapping = previous_infection_mapping"
   ],
   "metadata": {
    "collapsed": false
   },
   "id": "e20e10a5c8a8d7ed",
   "outputs": [],
   "execution_count": null
  },
  {
   "cell_type": "markdown",
   "source": [
    "### Analyse correlations between parameters"
   ],
   "metadata": {
    "collapsed": false
   },
   "id": "54ebfa71aac1a925"
  },
  {
   "cell_type": "code",
   "source": [
    "if cov_type == 'cholesky':\n",
    "    # if covariance matrix is diagonal, no pairs will appear here since they are not in the mixed effects parameters names list\n",
    "    high_correlation_pairs = analyse_correlation_in_posterior(model=individual_model, \n",
    "                                                              mixed_effect_params_names=mixed_effect_params_names, \n",
    "                                                              obs_data=obs_data,\n",
    "                                                              threshold_corr=0.3)\n",
    "    print('Parameter pairs of high correlation in individual posterior:', np.array(mixed_effect_params_names)[high_correlation_pairs])\n",
    "else:\n",
    "    high_correlation_pairs = []"
   ],
   "metadata": {
    "collapsed": false
   },
   "id": "de47356800882bb0",
   "outputs": [],
   "execution_count": null
  },
  {
   "cell_type": "markdown",
   "source": [
    "## Fixed and Random Effects\n",
    "\n",
    "Decide which parameters to fix\n",
    "- a fixed effect is modeled as a random effect with variance 0 (all parameters follow a normal distribution)\n",
    "- variance of error parameters in the individual model are usually supposed to be a fixed parameter in the population model\n",
    "- correlations with these error parameters are usually fixed to 0\n"
   ],
   "metadata": {
    "collapsed": false
   },
   "id": "49d1c49ce426eda8"
  },
  {
   "cell_type": "code",
   "source": [
    "if 'Froehlich' in individual_model.name:\n",
    "    # fix variance of error parameters and correlations with sigma if cholesky covariance is used\n",
    "    fix_names = ['std-$\\sigma$'] + [name for name in mixed_effect_params_names if '\\sigma' in name and 'corr_' in name]\n",
    "    fixed_values = [0] * len(fix_names)\n",
    "elif 'Pharmacokinetic' in individual_model.name:\n",
    "    fix_error_std = ['std-$\\\\theta_{12}$', 'std-$\\\\theta_{13}$']\n",
    "    fix_error_std_val = [0] * len(fix_error_std)\n",
    "    # fix variance of fixed parameters\n",
    "    fixed_effects_std = ['std-$\\\\theta_1$', 'std-$\\\\theta_5$', 'std-$\\\\theta_7$', 'std-$\\\\theta_8$', \n",
    "                         'std-$\\\\theta_{10}$', 'std-$\\\\theta_{12}$', 'std-$\\\\theta_{13}$']\n",
    "    fixed_effects_std_val = [0] * len(fixed_effects_std)\n",
    "    # fix mean of random effect\n",
    "    random_effect_mean = ['pop-$\\eta_4$']\n",
    "    random_effect_mean_val = [0]\n",
    "    \n",
    "    # put all fixed parameters together\n",
    "    fix_names = fix_error_std + fixed_effects_std + random_effect_mean\n",
    "    fixed_values = fix_error_std_val + fixed_effects_std_val + random_effect_mean_val\n",
    "    \n",
    "    # if correlations are used, only allow the same as in the original model\n",
    "    # hence correlations with the error parameter are fixed as well\n",
    "    if cov_type == 'cholesky':\n",
    "        non_fix_corr = ['corr_$\\\\theta_2-\\\\eta_1$_$\\\\theta_6-\\\\eta_2$', \n",
    "                        'corr_$\\\\theta_4-\\\\eta_3$_$\\\\theta_6-\\\\eta_2$', \n",
    "                        'corr_$\\\\theta_4-\\\\eta_3$_$\\\\eta_4$']\n",
    "        fixed_corr = [x for x in mixed_effect_params_names if 'corr_' in x and x not in non_fix_corr]\n",
    "        fix_names += fixed_corr\n",
    "        fixed_values += [0] * len(fixed_corr)\n",
    "    \n",
    "elif 'dePillis' in individual_model.name:\n",
    "    fix_names = ['pop-k2', 'std-error_prop', 'c_Ab0_not_infection_before_dose', 'c_Ab0_not_infection_before_dose_neg_log_std']\n",
    "    fixed_values = [np.log(55.), 0, np.log(0.01), -np.log(0.01)]\n",
    "    if cov_type == 'cholesky':\n",
    "        # fix correlations with error parameters\n",
    "        fix_names += [name for name in mixed_effect_params_names if 'corr_' in name and 'error' in name]\n",
    "        fixed_values += [0] * len([name for name in mixed_effect_params_names if 'corr_' in name and 'error' in name])\n",
    "else:\n",
    "    raise NotImplementedError('model not yet implemented')\n",
    "    \n",
    "# \"fix\" is here in the context of parameters which are not optimized\n",
    "fixed_indices, fixed_values = create_fixed_params(fix_names=fix_names, \n",
    "                                                  fixed_values=fixed_values,\n",
    "                                                  params_list=mixed_effect_params_names, \n",
    "                                                  fix_low_correlation=True,  # only applies to cholesky covariance\n",
    "                                                  high_correlation_pairs=high_correlation_pairs)\n",
    "print(mixed_effect_params_names)\n",
    "# note: inf values in fixed_values will be set to upper or lower bound respectively"
   ],
   "metadata": {
    "collapsed": false
   },
   "id": "7f7555718ecb980b",
   "outputs": [],
   "execution_count": null
  },
  {
   "cell_type": "code",
   "source": [
    "fixed_indices, unique_indices = np.unique(np.array(fixed_indices), return_index=True)\n",
    "fixed_values = np.array(fixed_values)[unique_indices]"
   ],
   "metadata": {
    "collapsed": false
   },
   "id": "43b36c67c26baaa3",
   "outputs": [],
   "execution_count": null
  },
  {
   "metadata": {},
   "cell_type": "raw",
   "source": [
    "# fix all covariate parameters to correct values\n",
    "fixed_indices = np.append(fixed_indices, np.arange(len(mixed_effect_params_names)-20, len(mixed_effect_params_names)))\n",
    "fixed_values = np.append(fixed_values, np.ones(20)*0.5)"
   ],
   "id": "b0285e0c43ed80f9"
  },
  {
   "cell_type": "markdown",
   "source": [
    "# Run Population Optimization"
   ],
   "metadata": {
    "collapsed": false
   },
   "id": "61f974f1d64fa036"
  },
  {
   "cell_type": "code",
   "id": "89a717d4",
   "metadata": {},
   "source": [
    "%%time\n",
    "pypesto_result, obj_fun_amortized, pesto_problem = run_population_optimization(\n",
    "    individual_model=individual_model,\n",
    "    data=obs_data,\n",
    "    param_names=mixed_effect_params_names,\n",
    "    cov_type=cov_type,\n",
    "    n_multi_starts=10,\n",
    "    n_samples_opt=10,\n",
    "    covariates_bounds=covariates_bounds,\n",
    "    covariates=covariates,\n",
    "    n_covariates_params=n_covariates_params,\n",
    "    covariate_mapping=covariate_mapping,\n",
    "    huber_loss=True,\n",
    "    x_fixed_indices=fixed_indices,\n",
    "    x_fixed_vals=fixed_values,\n",
    "    #file_name=f'../Experiments/dePillis/{model_name}_real_data_covariates.hdf5',\n",
    "    verbose=True,\n",
    "    trace_record=False,\n",
    "    pesto_multi_processes=10,\n",
    "    use_result_as_start=False,\n",
    "    #result=pypesto_result,\n",
    ")\n",
    "\n",
    "print(pypesto_result.optimize_result.summary())"
   ],
   "outputs": [],
   "execution_count": null
  },
  {
   "metadata": {},
   "cell_type": "raw",
   "source": [
    "ax = visualize.waterfall(pypesto_result, scale_y='lin', size=(7, 4))\n",
    "ax.set_ylabel('Negative log-likelihood');\n",
    "#plt.savefig(f'../Plots/sde_waterfall.png', dpi=600)"
   ],
   "id": "171a5dc00f88a461"
  },
  {
   "metadata": {},
   "cell_type": "raw",
   "source": "from pypesto import visualize",
   "id": "833ecd35caf234d8"
  },
  {
   "metadata": {},
   "cell_type": "raw",
   "source": [
    "from pypesto import store\n",
    "pypesto_result = store.read_result(\n",
    "    filename=f'../Experiments/dePillis/{model_name}_real_full.hdf5'\n",
    ")\n",
    "#obj_fun_amortized = None"
   ],
   "id": "9582512c3ca442e2"
  },
  {
   "cell_type": "code",
   "id": "e7d40875",
   "metadata": {
    "scrolled": false
   },
   "source": "visualize_pesto_result(pypesto_result, obj_fun_amortized=obj_fun_amortized)",
   "outputs": [],
   "execution_count": null
  },
  {
   "cell_type": "code",
   "source": [
    "# show best result\n",
    "results = pypesto_result.optimize_result.x\n",
    "estimated_beta, psi_inverse, estimated_psi_vector, estimated_covariates_params = obj_fun_amortized.get_params(results[0])\n",
    "estimated_psi = np.linalg.inv(psi_inverse)\n",
    "estimated_var = estimated_psi.diagonal()\n",
    "estimated_corr = estimated_psi[np.tril_indices(obj_fun_amortized.param_dim, k=-1)]\n",
    "\n",
    "display(pd.DataFrame(estimated_beta,\n",
    "                     index=mixed_effect_params_names[:individual_model.n_params],\n",
    "                     columns=['estimated population parameters']))\n",
    "display(pd.DataFrame(estimated_var,\n",
    "                     index=mixed_effect_params_names[individual_model.n_params:individual_model.n_params*2],\n",
    "                     columns=['estimated population parameters']))\n",
    "if cov_type == 'cholesky':\n",
    "    display(pd.DataFrame(estimated_corr,\n",
    "                         index=mixed_effect_params_names[individual_model.n_params*2:-n_covariates_params],\n",
    "                         columns=['estimated population parameters']))\n",
    "    \n",
    "display(pd.DataFrame(np.var([r for r in results], axis=0),\n",
    "                     index=pypesto_result.problem.x_names,\n",
    "                     columns=['variance of multi-start results']))"
   ],
   "metadata": {
    "collapsed": false
   },
   "id": "6441a2da84ce4968",
   "outputs": [],
   "execution_count": null
  },
  {
   "metadata": {},
   "cell_type": "code",
   "source": [
    "covariates_test = estimated_covariates_params.copy()\n",
    "covariates_test_names = np.array(pypesto_result.problem.x_names[-n_covariates_params:])\n",
    "index_sort = np.argsort(np.abs(covariates_test))[::-1]\n",
    "covariates_test_names[index_sort], covariates_test[index_sort]"
   ],
   "id": "bbeb0ce797bd2461",
   "outputs": [],
   "execution_count": null
  },
  {
   "metadata": {},
   "cell_type": "raw",
   "source": [
    "# synthetic data estimates\n",
    "estimated_beta_monolix = np.array([-139.572943, 0.263641, 1.276008, -12.546909, -11.294674, 2.43691, 4.00000000, np.log(0.058847)])\n",
    "estimated_psi_monolix = np.diag(np.array([86.528957, 1.324432, 1.881375, 3.345951, 1.124065, 0.638342, 1.293745, 0.001])**2)"
   ],
   "id": "19ccfb12a5ffbcda"
  },
  {
   "metadata": {},
   "cell_type": "code",
   "source": [
    "# real data estimates\n",
    "estimated_beta_monolix = np.array([1.73232140, -1.78934711, -0.48073753, -12.56150101, -12.47595667, 2.08705237, 4.00000000, np.log(0.20769649)])\n",
    "estimated_psi_monolix = np.diag(np.array([3.49902783, 1.15750324, 0.04405034, 5.12034642, 0.74683799, 0.03134994, 0.03816975, 0.001])**2)"
   ],
   "id": "27969871fad3f898",
   "outputs": [],
   "execution_count": null
  },
  {
   "cell_type": "code",
   "source": [
    "# _ = plot_normal_distributions(individual_model.prior_mean, individual_model.prior_cov,\n",
    "#                               title='Prior Parameter Distribution with Individual Posterior Samples',\n",
    "#                               label='prior',\n",
    "#                               posterior_samples=obj_fun_amortized.param_samples,\n",
    "#                               lb=pypesto_result.problem.lb_full,\n",
    "#                               ub=pypesto_result.problem.ub_full,\n",
    "#                               param_names_plot=individual_model.log_param_names)\n",
    "\n",
    "ax = plot_normal_distributions(individual_model.prior_mean, individual_model.prior_cov,\n",
    "                               title='Prior Parameter Distribution with Individual Posterior Samples',\n",
    "                               label='prior',\n",
    "                               #posterior_samples=obj_fun_amortized.param_samples,\n",
    "                               lb=pypesto_result.problem.lb_full,\n",
    "                               ub=pypesto_result.problem.ub_full,\n",
    "                               max_col=4,\n",
    "                               param_names_plot=individual_model.log_param_names)\n",
    "\n",
    "ax = plot_normal_distributions(estimated_beta, estimated_psi,\n",
    "                               title='Population Parameter Distribution',\n",
    "                               label='estimated',\n",
    "                               lb=pypesto_result.problem.lb_full,\n",
    "                               ub=pypesto_result.problem.ub_full,\n",
    "                               param_names_plot=individual_model.log_param_names,\n",
    "                               ax=ax,\n",
    "                               color='red')\n",
    "\n",
    "# ax = plot_normal_distributions(estimated_beta_monolix, estimated_psi_monolix,\n",
    "#                                title='Population Parameter Distribution',\n",
    "#                                label='estimated Monolix',\n",
    "#                                lb=pypesto_result.problem.lb_full,\n",
    "#                                ub=pypesto_result.problem.ub_full,\n",
    "#                                param_names_plot=individual_model.log_param_names,\n",
    "#                                ax=ax,\n",
    "#                                color='green')\n",
    "\n",
    "if true_pop_parameters is not None:\n",
    "    if true_pop_parameters.ndim == 2:\n",
    "        true_mean = np.mean(true_pop_parameters, axis=0)\n",
    "        true_std = np.std(true_pop_parameters, axis=0)\n",
    "    else:\n",
    "        true_mean = true_pop_parameters[:individual_model.n_params]\n",
    "        true_std = true_pop_parameters[individual_model.n_params:]\n",
    "    true_std[true_std < 0.01] = 0.01  # smaller cannot be estimated\n",
    "    true_cov = np.diag(true_std**2)\n",
    "\n",
    "    ax = plot_normal_distributions(true_mean,\n",
    "                                   true_cov,\n",
    "                                   title='Population Parameter Distribution',\n",
    "                                   label='true',\n",
    "                                   lb=pypesto_result.problem.lb_full,\n",
    "                                   ub=pypesto_result.problem.ub_full,\n",
    "                                   param_names_plot=individual_model.log_param_names,\n",
    "                                   ax=ax,\n",
    "                                   color='orange')\n",
    "for a in ax.flatten()[:estimated_beta.size]:\n",
    "    a.legend()\n",
    "plt.show()"
   ],
   "metadata": {
    "collapsed": false
   },
   "id": "fdac67b65f2d7a97",
   "outputs": [],
   "execution_count": null
  },
  {
   "metadata": {},
   "cell_type": "code",
   "source": [
    "# plot estimates parameters vs true parameters\n",
    "if true_pop_parameters is not None:\n",
    "    plt_true = np.concatenate((true_mean, np.sqrt(true_cov.diagonal())))\n",
    "    plt.plot(np.arange(0, plt_true.size), plt_true, 'o', label='true')\n",
    "plt_estimated = np.concatenate((estimated_beta, np.sqrt(estimated_psi.diagonal())))\n",
    "plt.plot(np.arange(0, plt_estimated.size), plt_estimated, 'o', label='estimated')\n",
    "plt.xticks(np.arange(0, plt_estimated.size), mixed_effect_params_names[:-n_covariates_params], rotation=90)\n",
    "plt.legend()\n",
    "plt.show()"
   ],
   "id": "a3c23076dcdb19d6",
   "outputs": [],
   "execution_count": null
  },
  {
   "metadata": {},
   "cell_type": "code",
   "source": [
    "plot_n = 10\n",
    "data_posterior_draws = individual_model.draw_posterior_samples(data=obs_data[:plot_n], n_samples=100)\n",
    "#data_posterior_draws[:, :, 5] += 0.5\n",
    "\n",
    "rows = 2\n",
    "fig, ax = plt.subplots(rows, int(np.ceil(len(obs_data[:plot_n]) / rows)), tight_layout=True, \n",
    "                       figsize=(10, rows*3), sharey='row')\n",
    "axis = ax.flatten()\n",
    "    \n",
    "for p_id in range(len(obs_data[:plot_n])):\n",
    "    axis[p_id] = individual_model.prepare_plotting(obs_data[:plot_n][p_id], data_posterior_draws[p_id], axis[p_id], with_noise=False)\n",
    "    _, labels = axis[p_id].get_legend_handles_labels()\n",
    "    axis[p_id].set_title(f'Individual {p_id+1}: {covariates[p_id]}')\n",
    "    if p_id % rows != 0:\n",
    "        axis[p_id].set_ylabel('')\n",
    "\n",
    "fig.legend(labels, ncol=3, loc='upper center', bbox_to_anchor=(0.5, -0.01))\n",
    "plt.show()"
   ],
   "id": "130339f3ee70d4d0",
   "outputs": [],
   "execution_count": null
  },
  {
   "metadata": {},
   "cell_type": "raw",
   "source": [
    "for i in range(data_posterior_draws.shape[-1]):\n",
    "    if i == 0: # abo\n",
    "        params_plots = []\n",
    "        #for j in range(covariates.shape[0]):\n",
    "        #    if covariates[j, 0] == 1:\n",
    "        #        params_plots.append(data_posterior_draws[j, :, i].flatten() - covariates[j, 1] * 0.5 - covariates[j, 1] * 0.5)\n",
    "        #params_plots = np.concatenate(params_plots)\n",
    "        #plt.hist(params_plots, bins=20, label='shifted')\n",
    "        pass #plt.hist(data_posterior_draws[covariates[:, 0]==1, :, i].flatten(), bins=20, label='all')\n",
    "        #print(params_plots.std(), data_posterior_draws[covariates[:, 0]==1, :, i].flatten().std())\n",
    "    else:\n",
    "        #params_plots = []\n",
    "        #for j in range(covariates.shape[0]):\n",
    "        #    params_plots.append(data_posterior_draws[j, :, i].flatten() - covariates[j, 1] * 0.5 - covariates[j, 1] * 0.5)\n",
    "        #params_plots = np.concatenate(params_plots)\n",
    "        #plt.hist(params_plots, bins=20, label='shifted')\n",
    "        plt.hist(data_posterior_draws[:, :, i].flatten(), bins=20, label='all')\n",
    "        # print(params_plots.std(), data_posterior_draws[:, :, i].flatten().std())\n",
    "    plt.title(individual_model.param_names[i])\n",
    "    #plt.legend()\n",
    "    plt.show()"
   ],
   "id": "aac7191055f4f6b0"
  },
  {
   "cell_type": "code",
   "id": "d875e9ee",
   "metadata": {},
   "source": [
    "if 'fröhlich' in model_name:\n",
    "    plot_real_vs_synthetic(estimated_mean=estimated_beta,\n",
    "                           estimated_cov=estimated_psi,\n",
    "                           data=obs_data[:n_data//2] if n_covariates_params > 0 else obs_data,\n",
    "                           model_name=individual_model.name,\n",
    "                           n_trajectories=n_data//2 if n_covariates_params > 0 else n_data,\n",
    "                           simulator=individual_model.simulator,\n",
    "                           ylim=(-1.,1.),\n",
    "                           seed=0)\n",
    "    plot_real_and_estimated(estimated_mean=estimated_beta,\n",
    "                           estimated_cov=estimated_psi,\n",
    "                           data=obs_data[:n_data//2] if n_covariates_params > 0 else obs_data,\n",
    "                           model_name=individual_model.name,\n",
    "                           n_trajectories=n_data//2 if n_covariates_params > 0 else n_data,\n",
    "                           simulator=individual_model.simulator,\n",
    "                           seed=0)\n",
    "    \n",
    "    if n_covariates_params > 0:\n",
    "        print(estimated_covariates_params)\n",
    "        estimated_beta_d2, estimated_inv_psi_d2 = covariate_mapping(estimated_beta, \n",
    "                                                                    estimated_psi_vector, \n",
    "                                                                    np.ones(1), \n",
    "                                                                    estimated_covariates_params)\n",
    "        print(estimated_beta[1], estimated_beta_d2[0, 1])\n",
    "        estimated_beta_d2 = estimated_beta_d2[-1]  # only second group, mean is the same for the whole group\n",
    "        estimated_inv_psi_d2 = estimated_inv_psi_d2[-1]\n",
    "        estimated_psi_d2 = np.linalg.inv(estimated_inv_psi_d2)\n",
    "        \n",
    "        plot_real_vs_synthetic(estimated_mean=estimated_beta_d2,\n",
    "                           estimated_cov=estimated_psi_d2,\n",
    "                           data=obs_data[n_data//2:],\n",
    "                           model_name=individual_model.name,\n",
    "                           n_trajectories=n_data//2,\n",
    "                           simulator=individual_model.simulator,\n",
    "                           ylim=(-1.,1.),\n",
    "                           seed=0)\n",
    "        plot_real_and_estimated(estimated_mean=estimated_beta_d2,\n",
    "                               estimated_cov=estimated_psi_d2,\n",
    "                               data=obs_data[n_data//2:],\n",
    "                               model_name=individual_model.name,\n",
    "                               n_trajectories=n_data//2,\n",
    "                               simulator=individual_model.simulator,\n",
    "                               seed=0)"
   ],
   "outputs": [],
   "execution_count": null
  },
  {
   "cell_type": "markdown",
   "source": [
    "# Bayesian Sampling\n",
    "\n",
    "Since our amortized inference is very efficient, we can use it to sample from the posterior distribution of the population parameters."
   ],
   "metadata": {
    "collapsed": false
   },
   "id": "b1f91e6a18985d17"
  },
  {
   "cell_type": "code",
   "source": [
    "# build neg log prior\n",
    "prior = NegLogParameterPriors(  # no prior is uniform prior on parameter scale defined by bounds\n",
    "    [\n",
    "        # population mean gets same prior as individual model\n",
    "        {'index': pesto_problem.full_index_to_free_index(i), \n",
    "         'density_fun': lambda x: -stats.norm.logpdf(x, loc=individual_model.prior_mean[i], scale=np.sqrt(individual_model.prior_cov.diagonal()[i]))}\n",
    "     for i in range(individual_model.n_params) if i not in fixed_indices\n",
    "    ] \n",
    "    #+ [ # std get a half-t prior (non-informative prior)\n",
    "    #    {'index': pesto_problem.full_index_to_free_index(i), \n",
    "    #     'density_fun': lambda x: -stats.t.pdf(np.exp(-x), 3, loc=0, scale=1) * 2}\n",
    "    #    for i in range(individual_model.n_params, individual_model.n_params*2) if i not in fixed_indices\n",
    "    #]\n",
    "    + [ # variance gets a gamma prior (for smaller variances)\n",
    "        {'index': pesto_problem.full_index_to_free_index(i), \n",
    "         'density_fun': lambda x: -stats.gamma.pdf(np.exp(-2*x), a=2, scale=1)}\n",
    "        for i in range(individual_model.n_params, individual_model.n_params*2) if i not in fixed_indices\n",
    "    ]\n",
    "    + [ # all other parameters get a uniform prior\n",
    "        {'index': pesto_problem.full_index_to_free_index(i), \n",
    "         'density_fun': lambda x: np.log(pesto_problem.ub_full[i]-pesto_problem.lb_full[i])}\n",
    "        for i in range(individual_model.n_params*2, len(pypesto_result.problem.x_names)) if i not in fixed_indices\n",
    "    ]\n",
    "    \n",
    "    #+ [ # negative log of population std gets a normal prior\n",
    "      #  {'index': pesto_problem.full_index_to_free_index(i+individual_model.n_params), 'density_fun': lambda x: -stats.norm.logpdf(x, loc=inv_std_prior_mean[i], scale=inv_std_prior_std[i])}\n",
    "     #for i in range(individual_model.n_params) if i+individual_model.n_params not in fixed_indices\n",
    "    #] + [  # all other parameters get a standard normal prior\n",
    "    #    {'index': pesto_problem.full_index_to_free_index(i+individual_model.n_params*2), 'density_fun': lambda x: -stats.norm#.logpdf(x, loc=0, scale=1)}\n",
    "    # for i in range(len(mixed_effect_params_names)-individual_model.n_params*2) if i+individual_model.n_params*2 not in fixed_indices\n",
    "    #]\n",
    ")"
   ],
   "metadata": {
    "collapsed": false
   },
   "id": "39e40274ab56ec31",
   "outputs": [],
   "execution_count": null
  },
  {
   "cell_type": "code",
   "source": [
    "bayesian_problem = Problem(\n",
    "    objective=AggregatedObjective([Objective(obj_fun_amortized), prior]),\n",
    "    lb=pesto_problem.lb_full, \n",
    "    ub=pesto_problem.ub_full, \n",
    "    x_names=pesto_problem.x_names,\n",
    "    x_scales=pesto_problem.x_scales,\n",
    "    x_fixed_indices=pesto_problem.x_fixed_indices,\n",
    "    x_fixed_vals=pesto_problem.x_fixed_vals,\n",
    "    x_priors_defs=prior,\n",
    ")"
   ],
   "metadata": {
    "collapsed": false
   },
   "id": "13787490d8591879",
   "outputs": [],
   "execution_count": null
  },
  {
   "metadata": {},
   "cell_type": "code",
   "source": [
    "i = 0\n",
    "while True:\n",
    "    print('Round', i)\n",
    "    n_samples = 1000\n",
    "    sampler = sample.ParallelTemperingSampler(\n",
    "        internal_sampler=sample.AdaptiveMetropolisSampler(), \n",
    "        n_chains=30\n",
    "    )\n",
    "    \n",
    "    pypesto_sampling_result = sample.sample(\n",
    "    bayesian_problem,\n",
    "    n_samples=n_samples,\n",
    "    sampler=sampler,\n",
    "    x0=pesto_problem.get_reduced_vector(pypesto_result.optimize_result.x[0]),\n",
    "    #filename=f'../Experiments/dePillis/sampling_{model_name}_real_covariates.hdf5',\n",
    "    overwrite=True\n",
    "    )\n",
    "    burn_in = sample.geweke_test(pypesto_sampling_result)\n",
    "    \n",
    "    if burn_in < n_samples+1:\n",
    "        break\n",
    "    i += 1"
   ],
   "id": "f2ffb09ad2e7f992",
   "outputs": [],
   "execution_count": null
  },
  {
   "metadata": {},
   "cell_type": "raw",
   "source": [
    "pypesto_result = store.read_result(\n",
    "    filename=f'../Experiments/results_nonmem/sampling_{model_name}_{cov_type}.hdf5'\n",
    ")\n",
    "obj_fun_amortized = None"
   ],
   "id": "aa3328e8f20bcc2c"
  },
  {
   "cell_type": "code",
   "source": "visualize.sampling_parameter_traces(pypesto_sampling_result, use_problem_bounds=False, size=(10, 10));",
   "metadata": {
    "collapsed": false
   },
   "id": "46bbf802cd84f18",
   "outputs": [],
   "execution_count": null
  },
  {
   "metadata": {},
   "cell_type": "code",
   "source": "visualize.sampling_parameter_cis(pypesto_sampling_result);",
   "id": "7f06e250611dae20",
   "outputs": [],
   "execution_count": null
  },
  {
   "metadata": {},
   "cell_type": "code",
   "source": [
    "try:\n",
    "    harmonic_mean_log_evidence = sample.estimate_evidence.harmonic_mean_log_evidence(pypesto_sampling_result)\n",
    "    print('Harmonic Mean Log Evidence:', harmonic_mean_log_evidence)\n",
    "    \n",
    "    try:\n",
    "        bridge_marginal_likelihood = sample.estimate_evidence.bridge_sampling(pypesto_sampling_result, \n",
    "                                                                       initial_guess_log_evidence=harmonic_mean_log_evidence)\n",
    "        print('Bridge Marginal Likelihood:', bridge_marginal_likelihood)\n",
    "    except:\n",
    "        bridge_marginal_likelihood = np.nan\n",
    "except:\n",
    "    harmonic_mean_log_evidence = np.nan\n",
    "    bridge_marginal_likelihood = np.nan"
   ],
   "id": "e91f92c97bb3d6ee",
   "outputs": [],
   "execution_count": null
  },
  {
   "metadata": {},
   "cell_type": "code",
   "source": [
    "try:\n",
    "    ti_marginal_likelihood = sampler.compute_log_evidence(pypesto_sampling_result, use_all_chains=False)\n",
    "    print('Thermodynamic Integration Marginal Likelihood:', ti_marginal_likelihood)\n",
    "except:\n",
    "    ti_marginal_likelihood = np.nan"
   ],
   "id": "b6e1cf491eda988",
   "outputs": [],
   "execution_count": null
  },
  {
   "metadata": {},
   "cell_type": "raw",
   "source": [
    "# empty data frame with 211 rows as id\n",
    "marginal_likelihoods_df = pd.DataFrame(np.arange(211), columns=['model'])\n",
    "marginal_likelihoods_df[['BIC', 'harmonic mean', 'bridge sampling', 'thermodynamic integration']] = None\n",
    "# save\n",
    "marginal_likelihoods_df.to_csv('output/marginal_likelihoods.csv', index=False)"
   ],
   "id": "c3071055d9b9c6ce"
  },
  {
   "cell_type": "code",
   "source": [
    "# extract 95% credible intervals\n",
    "param_quantiles = np.quantile(pypesto_sampling_result.sample_result.trace_x[0, burn_in:], [0.01, 0.99], axis=0)\n",
    "param_median = np.median(pypesto_sampling_result.sample_result.trace_x[0, burn_in:], axis=0)\n",
    "# compute difference from median to 95% quantile\n",
    "param_quantiles_dif = param_median-param_quantiles"
   ],
   "metadata": {
    "collapsed": false
   },
   "id": "e1175ae8ef55e885",
   "outputs": [],
   "execution_count": null
  },
  {
   "metadata": {},
   "cell_type": "code",
   "source": [
    "# get quantiles which cover 0\n",
    "param_quantiles[:, -(n_covariates_params-2):]"
   ],
   "id": "18227dbbdd6ae1c0",
   "outputs": [],
   "execution_count": null
  },
  {
   "metadata": {},
   "cell_type": "code",
   "source": "covariates_test_names[2:]",
   "id": "15006c6123f4f93d",
   "outputs": [],
   "execution_count": null
  },
  {
   "metadata": {},
   "cell_type": "code",
   "source": [
    "# get quantiles which cover 0\n",
    "covariates_test_names[2:][(param_quantiles[1, -(n_covariates_params-2):] > 0) & (param_quantiles[0, -(n_covariates_params-2):] < 0)]"
   ],
   "id": "ed6de641756ec916",
   "outputs": [],
   "execution_count": null
  },
  {
   "metadata": {},
   "cell_type": "code",
   "source": "covariates_test[2:][(param_quantiles[1, -(n_covariates_params-2):] >= 0) & (param_quantiles[0, -(n_covariates_params-2):] <= 0)]",
   "id": "1c4fa216a47f3ae0",
   "outputs": [],
   "execution_count": null
  },
  {
   "metadata": {},
   "cell_type": "code",
   "source": "covariates_test_names[index_sort], covariates_test[index_sort]",
   "id": "29d04e38a33ef64f",
   "outputs": [],
   "execution_count": null
  },
  {
   "metadata": {},
   "cell_type": "code",
   "source": "",
   "id": "25accfea03573098",
   "outputs": [],
   "execution_count": null
  },
  {
   "cell_type": "markdown",
   "id": "da70f2e8",
   "metadata": {},
   "source": [
    "# Uncertainty Analysis"
   ]
  },
  {
   "cell_type": "markdown",
   "id": "a186fb11",
   "metadata": {},
   "source": [
    "Uncertainty based on profiles -> more accurate"
   ]
  },
  {
   "cell_type": "code",
   "id": "846ca6f3",
   "metadata": {},
   "source": [
    "profile_options = profile.ProfileOptions(\n",
    "    #min_step_size=0.0001, #0.001\n",
    "    #step_size_factor=1.25, #1.25\n",
    "    delta_ratio_max=0.01, #0.1\n",
    "    #default_step_size=0.0001, #0.01\n",
    "    #ratio_min=0.145 #0.145\n",
    ")\n",
    "\n",
    "pypesto_result = profile.parameter_profile(\n",
    "    problem=pypesto_result.problem,\n",
    "    result=pypesto_result,\n",
    "    optimizer=optimize.ScipyOptimizer(), #(options={'disp': True}),\n",
    "    engine=engine.MultiProcessEngine(10),\n",
    "    #profile_options=profile_options,\n",
    "    #filename=f'../Experiments/synthetic_results_amortized/uncertainty_{individual_model.name}_cells_{n_data}_samples_{100}.hd5',\n",
    "    #overwrite=True\n",
    ")"
   ],
   "outputs": [],
   "execution_count": null
  },
  {
   "cell_type": "code",
   "id": "786a1501",
   "metadata": {},
   "source": [
    "visualize.profiles(pypesto_result, size=(16,12), \n",
    "                   profile_list_ids=list(np.arange(len(pypesto_result.profile_result.list)))\n",
    ")\n",
    "plt.show()"
   ],
   "outputs": [],
   "execution_count": null
  },
  {
   "cell_type": "code",
   "id": "02e078a3",
   "metadata": {},
   "source": [
    "ax = visualize.profile_cis(pypesto_result, profile_list=len(pypesto_result.profile_result.list)-1)\n",
    "#ax.set_title('Approximate Confidence Intervals \\n Based on Profiles')\n",
    "plt.tight_layout()\n",
    "plt.show()"
   ],
   "outputs": [],
   "execution_count": null
  },
  {
   "cell_type": "markdown",
   "id": "35ac88c2",
   "metadata": {},
   "source": [
    "Uncertainty based on FIM"
   ]
  },
  {
   "cell_type": "code",
   "id": "c6a4ae8c",
   "metadata": {},
   "source": [
    "pypesto_result = profile.approximate_parameter_profile(\n",
    "    problem=pypesto_result.problem,\n",
    "    result=pypesto_result,\n",
    ")"
   ],
   "outputs": [],
   "execution_count": null
  },
  {
   "cell_type": "code",
   "id": "82a9ce00",
   "metadata": {},
   "source": [
    "visualize.profiles(pypesto_result, \n",
    "                   profile_list_ids=list(np.arange(len(pypesto_result.profile_result.list)))\n",
    "                   )\n",
    "plt.show()"
   ],
   "outputs": [],
   "execution_count": null
  },
  {
   "cell_type": "code",
   "source": [
    "ax = visualize.profile_cis(pypesto_result, profile_list=len(pypesto_result.profile_result.list)-1)\n",
    "ax.set_title('Approximate Confidence Intervals \\n Based on Profiles')\n",
    "plt.tight_layout()\n",
    "plt.show()"
   ],
   "metadata": {
    "collapsed": false
   },
   "id": "a8d4fffc09c3b1cf",
   "outputs": [],
   "execution_count": null
  },
  {
   "cell_type": "code",
   "source": [
    "from pypesto import store\n",
    "\n",
    "store.write_result(pypesto_result, \n",
    "                   f'../Experiments/synthetic_results_amortized/uncertainty_{model_name}_cells_500_samples_100.hdf5')"
   ],
   "metadata": {
    "collapsed": false
   },
   "id": "65ac907dd6a1f312",
   "outputs": [],
   "execution_count": null
  },
  {
   "cell_type": "code",
   "source": [],
   "metadata": {
    "collapsed": false
   },
   "id": "f54af7d4a4b98fab",
   "outputs": [],
   "execution_count": null
  }
 ],
 "metadata": {
  "kernelspec": {
   "display_name": "Python 3 (ipykernel)",
   "language": "python",
   "name": "python3"
  },
  "language_info": {
   "codemirror_mode": {
    "name": "ipython",
    "version": 3
   },
   "file_extension": ".py",
   "mimetype": "text/x-python",
   "name": "python",
   "nbconvert_exporter": "python",
   "pygments_lexer": "ipython3",
   "version": "3.9.16"
  }
 },
 "nbformat": 4,
 "nbformat_minor": 5
}
