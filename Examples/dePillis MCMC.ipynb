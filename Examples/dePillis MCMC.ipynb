{
 "cells": [
  {
   "cell_type": "markdown",
   "id": "6337b6a3",
   "metadata": {},
   "source": [
    "# Validate BayesFlow Posterior with MCMC\n",
    "\n",
    "In this notebook we are going to validate the posterior from BayesFlow by comparing it to posteriors generated from MCMC."
   ]
  },
  {
   "cell_type": "code",
   "id": "6eb930b7",
   "metadata": {},
   "source": [
    "import os\n",
    "from functools import partial\n",
    "import matplotlib.pyplot as plt\n",
    "import matplotlib.patches as mpatches\n",
    "import numpy as np\n",
    "import pandas as pd\n",
    "import pypesto.engine\n",
    "from numba import njit\n",
    "from pypesto import sample, optimize, visualize, FD, Objective, Problem, store\n",
    "from scipy import stats\n",
    "from tqdm import tqdm\n",
    "from inference.likelihoods import log_likelihood_additive_noise, log_likelihood_multiplicative_noise"
   ],
   "outputs": [],
   "execution_count": null
  },
  {
   "cell_type": "code",
   "id": "5fef8f8c",
   "metadata": {},
   "source": [
    "# specify which model to use\n",
    "model_name = ['dePillis'][0]\n",
    "if model_name == 'fröhlich-detailed' or model_name == 'pharmacokinetic_model' or 'dePillis' in model_name:\n",
    "    # this is needed so julia is recognized correctly\n",
    "    from juliacall import Main as jl\n",
    "\n",
    "network_idx = 25\n",
    "load_best_network = False"
   ],
   "outputs": [],
   "execution_count": null
  },
  {
   "cell_type": "markdown",
   "id": "7adcc9cd",
   "metadata": {},
   "source": [
    "## Load individual model\n"
   ]
  },
  {
   "cell_type": "code",
   "id": "9f686177",
   "metadata": {
    "scrolled": false,
    "is_executing": true
   },
   "source": [
    "presimulation_path = '../data/'\n",
    "\n",
    "if model_name == 'fröhlich-simple':\n",
    "    from models.froehlich_model_simple import FroehlichModelSimple, batch_simulator\n",
    "    model = FroehlichModelSimple(network_idx=network_idx, load_best=load_best_network)\n",
    "\n",
    "    use_presimulation = False\n",
    "elif model_name == 'fröhlich-detailed':\n",
    "    from models.froehlich_model_detailed import FroehlichModelDetailed, batch_simulator\n",
    "    model = FroehlichModelDetailed(network_idx=network_idx, load_best=load_best_network)\n",
    "\n",
    "    use_presimulation = True\n",
    "    presimulation_path += 'presimulations_froehlich_detailed'\n",
    "\n",
    "elif model_name == 'fröhlich-sde':\n",
    "    from models.froehlich_model_sde import FroehlichModelSDE, batch_simulator\n",
    "    model = FroehlichModelSDE(network_idx=network_idx, load_best=load_best_network)\n",
    "\n",
    "    use_presimulation = True\n",
    "    presimulation_path += 'presimulations_froehlich_sde'\n",
    "\n",
    "elif model_name == 'pharmacokinetic_model':\n",
    "    from models.pharmacokinetic_model import PharmacokineticModel, batch_simulator, convert_bf_to_observables\n",
    "    model = PharmacokineticModel(network_idx=network_idx, load_best=load_best_network)\n",
    "\n",
    "    use_presimulation = True\n",
    "    presimulation_path += 'presimulations_pharma'\n",
    "\n",
    "elif model_name == 'dePillis':\n",
    "    from models.de_pillis_model import dePillisModel, batch_simulator, simulate_single_patient, convert_bf_to_observables\n",
    "    model = dePillisModel(network_idx=network_idx, load_best=load_best_network)\n",
    "\n",
    "    use_presimulation = True\n",
    "    presimulation_path += 'presimulations_de_pillis'\n",
    "else:\n",
    "    raise NotImplementedError('model not implemented')\n",
    "\n",
    "# load network\n",
    "trainer = model.build_trainer('../networks/' + model.network_name)"
   ],
   "outputs": [],
   "execution_count": null
  },
  {
   "cell_type": "markdown",
   "id": "652919f1",
   "metadata": {},
   "source": [
    "## Load Data"
   ]
  },
  {
   "metadata": {},
   "cell_type": "raw",
   "source": [
    "np.random.seed(0)\n",
    "# Ab0, r1, r2, r3, r4, k1, k2, error_prop\n",
    "synthetic_mean = np.array([10, 0.01, 0.5, 0.00001, 0.00001, 10.0, 55.0, 0.1])\n",
    "synthetic_mean = np.random.normal(synthetic_mean, 1)\n",
    "synthetic_mean[synthetic_mean < 0.00001] = 0.00005\n",
    "synthetic_mean[[3, 4]] = 0.00001  # otherwise too large\n",
    "synthetic_mean[6] = 55.0  # k2 is fixed\n",
    "synthetic_mean[-1] = 0.05  # otherwise too large\n",
    "synthetic_mean = np.log(synthetic_mean)\n",
    "synthetic_cov = np.random.uniform(0.001, 1.5, size=8)\n",
    "synthetic_cov[-1] = 0.001  # error parameter\n",
    "synthetic_cov = np.diag(synthetic_cov)  # no fixed parameters\n",
    "c_params = np.array([0.5, 0.5])  # age, male\n",
    "\n",
    "# create individual parameters\n",
    "from models.de_pillis_model import batch_gaussian_prior_de_pillis\n",
    "params = batch_gaussian_prior_de_pillis(mean=synthetic_mean,\n",
    "                                        cov=synthetic_cov,\n",
    "                                        batch_size=1)\n",
    "test_data = batch_simulator(params)\n",
    "#test_data = model.load_data(n_data=25, synthetic=False)"
   ],
   "id": "1b38d76214e8c732"
  },
  {
   "cell_type": "code",
   "id": "63fedc5f",
   "metadata": {
    "is_executing": true
   },
   "source": [
    "# load real data (here for the first time), simulate posterior and plot\n",
    "test_data = model.load_data(n_data=100, synthetic=True)  # or load synthetic data with synthetic=True\n",
    "data_posterior_draws = model.draw_posterior_samples(data=test_data, n_samples=10)\n",
    "\n",
    "rows = 5\n",
    "fig, ax = plt.subplots(rows, int(np.ceil(len(test_data) / rows)), tight_layout=True,\n",
    "                       figsize=(10, rows*3), sharey='row')\n",
    "axis = ax.flatten()\n",
    "\n",
    "for p_id in tqdm(range(len(test_data))):\n",
    "    axis[p_id] = model.prepare_plotting(test_data[p_id], data_posterior_draws[p_id], axis[p_id])\n",
    "    _, labels = axis[p_id].get_legend_handles_labels()\n",
    "    axis[p_id].set_title(f'Individual {p_id+1}')\n",
    "    if p_id % rows != 0:\n",
    "        axis[p_id].set_ylabel('')\n",
    "\n",
    "fig.legend(labels, ncol=3, loc='upper center', bbox_to_anchor=(0.5, -0.01))\n",
    "plt.show()"
   ],
   "outputs": [],
   "execution_count": null
  },
  {
   "metadata": {},
   "cell_type": "code",
   "source": "result_list = []",
   "id": "85d87ae9255aaf71",
   "outputs": [],
   "execution_count": null
  },
  {
   "cell_type": "markdown",
   "id": "b0e53a41",
   "metadata": {},
   "source": [
    "## Prepare MCMC Posterior\n",
    "\n",
    "First we need to define the likelihood and the prior we want to use for MCMC.\n",
    "Note: BayesFlow works without specifying a likelihood since it is a simulation-based method."
   ]
  },
  {
   "cell_type": "code",
   "source": [
    "@njit\n",
    "def log_prior_density_normal(log_param: np.ndarray, \n",
    "                             mean: np.ndarray,\n",
    "                             inv_cov_matrix: np.ndarray, \n",
    "                             prior_constant: float) -> float:\n",
    "    # compute the log normal density of the prior\n",
    "    dif = log_param - mean\n",
    "    return prior_constant - 0.5 * dif.dot(inv_cov_matrix).dot(dif.T) # - log_param.sum()  sum cancels with log-transformation\n",
    "\n",
    "@njit\n",
    "def log_prior_density_uniform(log_param: np.ndarray, \n",
    "                              prior_bounds: np.ndarray) -> float:\n",
    "    # check if parameters are within bounds\n",
    "    if np.any(log_param < prior_bounds[:, 0]) or np.any(log_param > prior_bounds[:, 1]):\n",
    "        return -np.inf\n",
    "    # compute the log uniform density of the prior\n",
    "    constant = -np.log(np.diff(prior_bounds).prod())\n",
    "    return constant\n",
    "\n",
    "if model.prior_type == 'normal':\n",
    "    _, logabsdet = np.linalg.slogdet(model.prior_cov)\n",
    "    log_prior_constant = -0.5 * model.n_params * np.log(2 * np.pi) -0.5* logabsdet\n",
    "    inv_cov = np.linalg.inv(model.prior_cov)"
   ],
   "metadata": {
    "collapsed": false,
    "is_executing": true
   },
   "id": "1d38505010595b8",
   "outputs": [],
   "execution_count": null
  },
  {
   "cell_type": "code",
   "source": [
    "individual_id = 0\n",
    "obs_data_indv = test_data[individual_id]"
   ],
   "metadata": {
    "collapsed": false,
    "is_executing": true
   },
   "id": "797e14cfcb6d92a8",
   "outputs": [],
   "execution_count": null
  },
  {
   "cell_type": "code",
   "source": [
    "# prepare simulator accordingly to the model\n",
    "if 'Froehlich' in model.name :\n",
    "    # prepare simulator, data should be on log-scale\n",
    "    simulator = partial(batch_simulator, \n",
    "                                n_obs=180,\n",
    "                                with_noise=False)\n",
    "    noise_model = 'multiplicative'  # additive on log-scale \n",
    "    index_sigma = -1  # index of sigma in parameter vector\n",
    "    obs_data_indv_prepared = obs_data_indv.flatten()  # just one measurement per time point, already on log-scale\n",
    "elif 'Pharma' in model.name:\n",
    "    # prepare simulator, data should be on log-scale\n",
    "    obs_data_indv_prepared, t_measurement, doses_time_points, dos, wt = convert_bf_to_observables(obs_data_indv)\n",
    "    simulator = partial(batch_simulator,\n",
    "                       t_measurement=t_measurement,\n",
    "                       t_doses=doses_time_points,\n",
    "                       wt=wt,\n",
    "                       dos=dos,\n",
    "                       with_noise=False,\n",
    "                       convert_to_bf_batch=False)\n",
    "    noise_model = 'multiplicative'  # additive on log-scale\n",
    "    index_sigma = [-3, -2]  # index of sigmas in parameter vector\n",
    "elif 'dePillis' in model.name:\n",
    "    # prepare simulator, data should be on log-scale\n",
    "    obs_data_indv_prepared, t_measurements, doses_time_points, infected_before_first_dose = convert_bf_to_observables(obs_data_indv)\n",
    "    simulator = partial(simulate_single_patient,\n",
    "                       patient_data=obs_data_indv,\n",
    "                       with_noise=False)\n",
    "    noise_model = 'proportional'  # additive on linear-scale\n",
    "    index_sigma = [-2, -1]  # index of sigmas in parameter vector\n",
    "else:\n",
    "    raise NotImplementedError('model not implemented')\n",
    "\n",
    "assert simulator(model.prior_mean).shape == obs_data_indv_prepared.shape, 'simulator output shape does not match data shape'"
   ],
   "metadata": {
    "collapsed": false,
    "is_executing": true
   },
   "id": "cb680995588dcdd0",
   "outputs": [],
   "execution_count": null
  },
  {
   "cell_type": "code",
   "source": [
    "def neg_log_likelihood(log_param: np.ndarray):\n",
    "    y_sim = simulator(log_param)  \n",
    "    if noise_model == 'multiplicative':\n",
    "        llh = log_likelihood_multiplicative_noise(log_measurements=obs_data_indv_prepared,\n",
    "                                                  log_simulations=y_sim,\n",
    "                                                  sigmas=np.exp(log_param[index_sigma]))\n",
    "    else:  # noise_model == 'proportional':\n",
    "        prop_sigma = np.exp(log_param[index_sigma[0]]) + obs_data_indv_prepared * np.exp(log_param[index_sigma[1]])\n",
    "        #prop_sigma = obs_data_indv_prepared * np.exp(log_param[index_sigma])\n",
    "        llh = log_likelihood_additive_noise(measurements=obs_data_indv_prepared,\n",
    "                                            simulations=y_sim,\n",
    "                                            sigmas=prop_sigma)\n",
    "    return -llh"
   ],
   "metadata": {
    "collapsed": false,
    "is_executing": true
   },
   "id": "8c448a545f61e5d1",
   "outputs": [],
   "execution_count": null
  },
  {
   "cell_type": "markdown",
   "source": [
    "## Run MCMC"
   ],
   "metadata": {
    "collapsed": false
   },
   "id": "485d32ab9e6c31f9"
  },
  {
   "cell_type": "code",
   "id": "51fce3ef",
   "metadata": {
    "is_executing": true
   },
   "source": [
    "from pypesto.objective import NegLogParameterPriors, AggregatedObjective, Objective\n",
    "from pypesto.objective.priors import get_parameter_prior_dict\n",
    "\n",
    "n_chains = 10\n",
    "filename = f'../Experiments/dePillis/mcmc_individual_{individual_id}_real.hdf5'\n",
    "\n",
    "prior_list = [get_parameter_prior_dict(index=i,\n",
    "                         prior_type=\"parameterScaleNormal\",\n",
    "                         prior_parameters=[model.prior_mean[i], model.prior_std[i]],\n",
    "                         parameter_scale=\"log\")\n",
    "     for i in range(1, model.n_params)]\n",
    "if infected_before_first_dose == 1:\n",
    "   prior_list = [get_parameter_prior_dict(index=0,\n",
    "                         prior_type=\"parameterScaleNormal\",\n",
    "                         prior_parameters=[model.prior_mean[0], model.prior_std[0]],\n",
    "                         parameter_scale=\"log\")] + prior_list\n",
    "\n",
    "prior = NegLogParameterPriors(prior_list)\n",
    "\n",
    "# create pypesto problem\n",
    "pesto_problem = Problem(objective=Objective(neg_log_likelihood), #AggregatedObjective([Objective(neg_log_likelihood), prior]),\n",
    "                        lb=model.prior_mean - 4 * model.prior_std,\n",
    "                        ub=model.prior_mean + 4 * model.prior_std,\n",
    "                        #x_guesses=[params[individual_id]],\n",
    "                        x_names=model.log_param_names,\n",
    "                        x_fixed_vals=None if infected_before_first_dose == 1 else [np.log(0.01)],\n",
    "                        x_fixed_indices=None if infected_before_first_dose == 1 else [0],\n",
    "                        #x_priors_defs=prior,\n",
    "                        x_scales=['log']*len(model.log_param_names)\n",
    "                        )\n",
    "pesto_problem.print_parameter_summary()"
   ],
   "outputs": [],
   "execution_count": null
  },
  {
   "cell_type": "code",
   "source": [
    "# check if file exists, if not run optimization\n",
    "if False: #os.path.exists(filename):\n",
    "    result = store.read_result(filename)\n",
    "    result.problem = pesto_problem\n",
    "else:\n",
    "    result = optimize.minimize(\n",
    "        problem=pesto_problem,\n",
    "        n_starts=n_chains)"
   ],
   "metadata": {
    "collapsed": false
   },
   "id": "51f53963b22c3cb",
   "outputs": [],
   "execution_count": null
  },
  {
   "metadata": {},
   "cell_type": "code",
   "source": "result.optimize_result.x[0]",
   "id": "2c343dd052b1f3a",
   "outputs": [],
   "execution_count": null
  },
  {
   "cell_type": "code",
   "id": "52af894b",
   "metadata": {},
   "source": [
    "visualize.parameters(result)\n",
    "visualize.waterfall(result);"
   ],
   "outputs": [],
   "execution_count": null
  },
  {
   "cell_type": "code",
   "source": [
    "fig, ax = plt.subplots(2, 3, tight_layout=True, figsize=(10, 5),\n",
    "                       sharex='row', sharey='all')\n",
    "axis = ax.flatten()\n",
    "    \n",
    "for p_id in tqdm(range(axis.size)):\n",
    "    axis[p_id] = model.prepare_plotting(obs_data_indv, result.optimize_result.x[p_id], axis[p_id])\n",
    "    _, labels = axis[p_id].get_legend_handles_labels()\n",
    "\n",
    "fig.legend(labels, ncol=3, loc='upper center', bbox_to_anchor=(0.5, 1))\n",
    "axis[0].set_title(f'best {axis.size} fits')\n",
    "plt.show()"
   ],
   "metadata": {
    "collapsed": false
   },
   "id": "f1034daf9bb56ce",
   "outputs": [],
   "execution_count": null
  },
  {
   "cell_type": "code",
   "source": [
    "sampler = sample.AdaptiveParallelTemperingSampler(\n",
    "    internal_sampler=sample.AdaptiveMetropolisSampler(), n_chains=n_chains,\n",
    ")"
   ],
   "metadata": {
    "collapsed": false
   },
   "id": "d3d56d64cd8e29ff",
   "outputs": [],
   "execution_count": null
  },
  {
   "cell_type": "code",
   "id": "65df331f",
   "metadata": {
    "scrolled": false
   },
   "source": [
    "if True: #not os.path.exists(filename):\n",
    "    result = sample.sample(\n",
    "        pesto_problem,\n",
    "        n_samples=1000,\n",
    "        sampler=sampler,\n",
    "        filename=filename,\n",
    "        result=result,\n",
    "        overwrite=True\n",
    "    )"
   ],
   "outputs": [],
   "execution_count": null
  },
  {
   "cell_type": "code",
   "id": "874098e0",
   "metadata": {},
   "source": [
    "geweke_test = sample.geweke_test(result)\n",
    "auto_correlation = sample.auto_correlation(result)\n",
    "effective_sample_size = sample.effective_sample_size(result)"
   ],
   "outputs": [],
   "execution_count": null
  },
  {
   "cell_type": "code",
   "id": "b6a156ae",
   "metadata": {},
   "source": "visualize.sampling_parameter_traces(result);",
   "outputs": [],
   "execution_count": null
  },
  {
   "cell_type": "code",
   "id": "05de1ba7",
   "metadata": {},
   "source": [
    "visualize.sampling_fval_traces(result);"
   ],
   "outputs": [],
   "execution_count": null
  },
  {
   "cell_type": "code",
   "id": "452e9adf",
   "metadata": {},
   "source": [
    "pesto_samples = result.sample_result.trace_x[0]\n",
    "print(pesto_samples.shape)"
   ],
   "outputs": [],
   "execution_count": null
  },
  {
   "cell_type": "code",
   "id": "964c8eb1",
   "metadata": {},
   "source": [
    "burn_in = result.sample_result.burn_in\n",
    "pesto_samples_adjusted = np.array([pesto_problem.get_full_vector(p, pesto_problem.x_fixed_vals) for p in pesto_samples[burn_in:]])\n",
    "print(pesto_samples_adjusted.shape)"
   ],
   "outputs": [],
   "execution_count": null
  },
  {
   "cell_type": "code",
   "id": "cd739561",
   "metadata": {},
   "source": [
    "MAP_idx = np.argmin(result.sample_result.trace_neglogpost[0,burn_in:])\n",
    "MAP = pesto_samples_adjusted[MAP_idx]\n",
    "print('MAP (optimizing)', pesto_problem.objective(pesto_problem.get_reduced_vector(result.optimize_result.x[0])))\n",
    "print('MAP (sampling)',  pesto_problem.objective(pesto_problem.get_reduced_vector(MAP)))"
   ],
   "outputs": [],
   "execution_count": null
  },
  {
   "cell_type": "code",
   "source": [
    "fig, ax = plt.subplots(1, 1, tight_layout=True, figsize=(10, 5))\n",
    "\n",
    "ax = model.prepare_plotting(obs_data_indv, MAP, ax)\n",
    "_, labels = ax.get_legend_handles_labels()\n",
    "fig.legend(labels, ncol=4, loc='lower center', bbox_to_anchor=(0.5, 1))\n",
    "\n",
    "ax.set_title(f'MAP fit')\n",
    "plt.show()"
   ],
   "metadata": {
    "collapsed": false
   },
   "id": "973d460a21dc7c62",
   "outputs": [],
   "execution_count": null
  },
  {
   "cell_type": "markdown",
   "source": [
    "# Compare BayesFlow and MCMC"
   ],
   "metadata": {
    "collapsed": false
   },
   "id": "ca40267bf1ff9280"
  },
  {
   "cell_type": "code",
   "source": "colors = ['#1f78b4', '#a6cee3', '#b2df8a','#33a02c','#fb9a99']",
   "metadata": {
    "collapsed": false
   },
   "id": "ecf31c16e4f9a127",
   "outputs": [],
   "execution_count": null
  },
  {
   "cell_type": "code",
   "source": [
    "# reduce to same number of samples\n",
    "n_samples = min(data_posterior_draws[individual_id].shape[0], pesto_samples_adjusted.shape[0])\n",
    "bayes_flow_samples = data_posterior_draws[individual_id]\n",
    "mcmc_smaples = pesto_samples_adjusted"
   ],
   "metadata": {
    "collapsed": false
   },
   "id": "9471049f70aa82b6",
   "outputs": [],
   "execution_count": null
  },
  {
   "cell_type": "code",
   "source": [
    "fig, ax = plt.subplots(nrows=2, ncols=int(np.ceil(model.n_params/2)), tight_layout=True, figsize=(12,6))\n",
    "axis = ax.flatten()\n",
    "bins = 20\n",
    "binwidth = 0.5\n",
    "xlim = np.stack((pesto_problem.lb_full, pesto_problem.ub_full)).T\n",
    "    \n",
    "for i, name in enumerate(model.param_names):\n",
    "    axis[i].set_title(name) #'log '+name)\n",
    "    axis[i].hist(bayes_flow_samples[:, i],\n",
    "                 bins=np.linspace(xlim[i][0], xlim[i][1], bins), #bins,\n",
    "                 density=True, label='BayesFlow', color='#d7191c') #\n",
    "    ylim = axis[i].get_ylim()\n",
    "    #xlim = axis[i].get_xlim()\n",
    "\n",
    "    axis[i].hist(mcmc_smaples[:, i],\n",
    "                 bins=np.linspace(xlim[i][0], xlim[i][1], bins),\n",
    "                 #bins=np.arange(min(np.exp(mcmc_smaples[:, i])), max(np.exp(mcmc_smaples[:, i])) + binwidth, binwidth),\n",
    "                 density=True, label='MCMC', alpha=0.6, color='#2c7bb6')\n",
    "    axis[i].set_ylim(ylim)\n",
    "    \n",
    "    \n",
    "    if model.prior_type == 'normal':\n",
    "        #x_prior = np.linspace(model.prior_mean[i] - 0.1*model.prior_std[i], \n",
    "         #           model.prior_mean[i] + 0.1*model.prior_std[i], 1000)\n",
    "        #prior_density = stats.norm.pdf(x_prior, model.prior_mean[i], model.prior_std[i])\n",
    "        #prior_handle, = axis[i].plot(np.exp(x_prior), prior_density, color='orange', label='Prior',\n",
    "        #                             linestyle='-')\n",
    "        # set axis to lim without prior \n",
    "        pass #axis[i].set_xlim(xlim)\n",
    "    elif model.prior_type == 'uniform':\n",
    "        axis[i].set_xlim(model.prior_bounds[i])\n",
    "     \n",
    "    #true_value = axis[i].axvline(params[individual_id][i], linestyle='--', color='black',\n",
    "    #                             label='true parameter')\n",
    "    \n",
    "    true_param = params[individual_id][i]\n",
    "    #xlim = true_param -0.5*true_param, true_param+0.5*true_param\n",
    "    #xlim = -1, np.exp(cell_param_log.values[individual_id][i])+1\n",
    "    axis[i].set_xlim(xlim[i])\n",
    "    \n",
    "bf_handle = mpatches.Patch(color='#d7191c', label='BayesFlow')\n",
    "mcmc_handle = mpatches.Patch(color='#2c7bb6', label='MCMC')\n",
    "#lgd = fig.legend(handles=[bf_handle, mcmc_handle, true_value], ncol=3, loc='lower center', bbox_to_anchor=(0.5, -0.05))\n",
    "lgd = fig.legend(handles=[bf_handle, mcmc_handle], ncol=3, loc='lower center', bbox_to_anchor=(0.5, -0.05))\n",
    "\n",
    "for _ax in axis[model.n_params:]:\n",
    "    _ax.remove()\n",
    "plt.show()"
   ],
   "metadata": {
    "collapsed": false
   },
   "id": "dd6aded093c4140a",
   "outputs": [],
   "execution_count": null
  },
  {
   "cell_type": "code",
   "source": [
    "sim_data = simulator(data_posterior_draws[individual_id])\n",
    "sim_data_MCMC = simulator(mcmc_smaples)"
   ],
   "metadata": {
    "collapsed": false
   },
   "id": "c8429482e5f025e",
   "outputs": [],
   "execution_count": null
  },
  {
   "cell_type": "code",
   "source": [
    "sim_data = np.median(sim_data, axis=0)\n",
    "sim_data.sort()\n",
    "sim_data_MCMC = np.median(sim_data_MCMC, axis=0)\n",
    "sim_data_MCMC.sort()"
   ],
   "metadata": {
    "collapsed": false
   },
   "id": "24575ddb8af23cd3",
   "outputs": [],
   "execution_count": null
  },
  {
   "cell_type": "code",
   "source": [
    "fig, ax = plt.subplots(1, 2, tight_layout=True, figsize=(16, 6),\n",
    "                       sharex='row', sharey='all')\n",
    "    \n",
    "ax[0] = model.prepare_plotting(obs_data_indv, data_posterior_draws[individual_id], ax[0], with_noise=False)\n",
    "ax[1] = model.prepare_plotting(obs_data_indv, mcmc_smaples, ax[1], with_noise=False)\n",
    "_, labels = ax[0].get_legend_handles_labels()\n",
    "ax[1].set_ylabel('')\n",
    "\n",
    "fig.legend(labels, ncol=3, loc='lower center', bbox_to_anchor=(0.5, -0.01))\n",
    "ax[0].set_title('BayesFlow Posterior Predictive')\n",
    "ax[1].set_title('MCMC Posterior Predictive')\n",
    "plt.show()"
   ],
   "metadata": {
    "collapsed": false
   },
   "id": "7cb99718e76cd7d",
   "outputs": [],
   "execution_count": null
  },
  {
   "cell_type": "code",
   "source": [],
   "metadata": {
    "collapsed": false
   },
   "id": "7e8f65f2ee3a23f6",
   "outputs": [],
   "execution_count": null
  }
 ],
 "metadata": {
  "kernelspec": {
   "display_name": "Python 3 (ipykernel)",
   "language": "python",
   "name": "python3"
  },
  "language_info": {
   "codemirror_mode": {
    "name": "ipython",
    "version": 3
   },
   "file_extension": ".py",
   "mimetype": "text/x-python",
   "name": "python",
   "nbconvert_exporter": "python",
   "pygments_lexer": "ipython3",
   "version": "3.9.16"
  }
 },
 "nbformat": 4,
 "nbformat_minor": 5
}
