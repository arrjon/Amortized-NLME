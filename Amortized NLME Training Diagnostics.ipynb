{
 "cells": [
  {
   "cell_type": "markdown",
   "id": "6337b6a3",
   "metadata": {},
   "source": [
    "# Amortized Inference for a NLME Model\n",
    "\n",
    "## Training Phase"
   ]
  },
  {
   "cell_type": "code",
   "execution_count": null,
   "id": "6eb930b7",
   "metadata": {},
   "outputs": [],
   "source": [
    "gpu_id = 0\n",
    "\n",
    "model_name = ['fröhlich-simple', 'fröhlich-detailed', 'fröhlich-sde',\n",
    "              'pharmacokinetic_model', 'clairon_small_model'][-1]\n",
    "if model_name == 'fröhlich-detailed' or model_name == 'pharmacokinetic_model' or 'clairon' in model_name:\n",
    "    from juliacall import Main as jl  # needed for cluster to load julia\n",
    "\n",
    "# specify which model to use\n",
    "network_idx = -1\n",
    "load_best_network = False\n",
    "\n",
    "# load necessary packages\n",
    "import numpy as np\n",
    "import pandas as pd\n",
    "\n",
    "# for plots\n",
    "import matplotlib.pyplot as plt\n",
    "from tqdm import tqdm\n",
    "\n",
    "# minor stuff\n",
    "from datetime import datetime\n",
    "from time import perf_counter"
   ]
  },
  {
   "cell_type": "markdown",
   "id": "74c74e8a",
   "metadata": {},
   "source": [
    "load BayesFlow package (https://bayesflow.readthedocs.io/)"
   ]
  },
  {
   "cell_type": "code",
   "execution_count": null,
   "id": "3de354ce",
   "metadata": {},
   "outputs": [],
   "source": [
    "from bayesflow.simulation import GenerativeModel\n",
    "from bayesflow import diagnostics"
   ]
  },
  {
   "cell_type": "code",
   "execution_count": null,
   "id": "8adc6d89",
   "metadata": {},
   "outputs": [],
   "source": [
    "# example training\n",
    "max_epochs = 10\n",
    "iterations_per_epoch = 100\n",
    "\n",
    "# show or save plots\n",
    "show_plots = True\n",
    "save_plots = False\n",
    "    \n",
    "# training params\n",
    "early_stopping = True\n",
    "presimulate = False\n",
    "train_network = False\n",
    "batch_size = 128\n",
    "max_to_keep = 3  # standard 3, if all should be saved: set to max_epochs"
   ]
  },
  {
   "cell_type": "markdown",
   "id": "7adcc9cd",
   "metadata": {},
   "source": [
    "## Load model\n"
   ]
  },
  {
   "cell_type": "code",
   "execution_count": null,
   "id": "cf260c3e",
   "metadata": {},
   "outputs": [],
   "source": [
    "presimulation_path = 'data/'\n",
    "\n",
    "if model_name == 'fröhlich-simple':\n",
    "    from models.froehlich_model_simple import FroehlichModelSimple\n",
    "    model = FroehlichModelSimple(network_idx=network_idx, load_best=load_best_network)\n",
    "    \n",
    "    use_presimulation = False\n",
    "elif model_name == 'fröhlich-detailed':\n",
    "    from models.froehlich_model_detailed import FroehlichModelDetailed\n",
    "    model = FroehlichModelDetailed(network_idx=network_idx, load_best=load_best_network)\n",
    "\n",
    "    use_presimulation = True\n",
    "    presimulation_path += 'presimulations_froehlich_detailed'\n",
    "\n",
    "elif model_name == 'fröhlich-sde':\n",
    "    from models.froehlich_model_sde import FroehlichModelSDE\n",
    "    model = FroehlichModelSDE(network_idx=network_idx, load_best=load_best_network)\n",
    "\n",
    "    use_presimulation = True\n",
    "    presimulation_path += 'presimulations_froehlich_sde'\n",
    "    \n",
    "elif model_name == 'pharmacokinetic_model':\n",
    "    from models.pharmacokinetic_model import PharmacokineticModel\n",
    "    model = PharmacokineticModel(network_idx=network_idx, load_best=load_best_network)\n",
    "    \n",
    "    use_presimulation = True\n",
    "    presimulation_path += 'presimulations_pharma'\n",
    "    \n",
    "elif model_name == 'clairon_small_model':\n",
    "    from models.clairon_small_model import ClaironSmallModel\n",
    "    model = ClaironSmallModel(network_idx=network_idx, load_best=load_best_network)\n",
    "\n",
    "    use_presimulation = True\n",
    "    presimulation_path += 'presimulations_small_clairon'\n",
    "else:\n",
    "    raise NotImplementedError('model not implemented')"
   ]
  },
  {
   "cell_type": "code",
   "execution_count": null,
   "outputs": [],
   "source": [
    "if show_plots:\n",
    "    model.plot_example()"
   ],
   "metadata": {
    "collapsed": false
   },
   "id": "5f64b5b9e73dd23b"
  },
  {
   "cell_type": "code",
   "execution_count": null,
   "id": "dc975f25",
   "metadata": {},
   "outputs": [],
   "source": [
    "network_name = model.network_name\n",
    "if network_name is None:\n",
    "    network_name = 'amortizer-' + str(datetime.now())\n",
    "print(network_name)\n",
    "\n",
    "path_store_network = 'networks/' + network_name"
   ]
  },
  {
   "cell_type": "code",
   "execution_count": null,
   "outputs": [],
   "source": [
    "if presimulate:\n",
    "    # sleep(int(job_array_id) % 200)  # so batch file does not get overwritten\n",
    "\n",
    "    generative_model = GenerativeModel(model.prior, model.build_simulator(),\n",
    "                                       simulator_is_batched=True,\n",
    "                                       prior_is_batched=True)\n",
    "    start_time = perf_counter()\n",
    "    np.random.seed(42)\n",
    "    generative_model.presimulate_and_save(batch_size, folder_path=presimulation_path,\n",
    "                                          iterations_per_epoch=iterations_per_epoch,\n",
    "                                          epochs=max_epochs,\n",
    "                                          disable_user_input=True)\n",
    "                                          # extend_from=int(job_array_id)*max_epochs)\n",
    "    end_time = perf_counter()\n",
    "    print(f'simulation time: {(end_time-start_time)/60} minutes')"
   ],
   "metadata": {
    "collapsed": false
   },
   "id": "cfd61cc5af258596"
  },
  {
   "cell_type": "markdown",
   "source": [
    "## Training"
   ],
   "metadata": {
    "collapsed": false
   },
   "id": "1d45083fd2df63ec"
  },
  {
   "cell_type": "code",
   "execution_count": null,
   "outputs": [],
   "source": [
    "trainer = model.build_trainer(path_store_network)"
   ],
   "metadata": {
    "collapsed": false
   },
   "id": "f26e0cc5ebc90932"
  },
  {
   "cell_type": "markdown",
   "source": [
    "each epoch a number of iterations each with batch_size many simulations is performed"
   ],
   "metadata": {
    "collapsed": false
   },
   "id": "8057db1e429a962c"
  },
  {
   "cell_type": "code",
   "execution_count": null,
   "outputs": [],
   "source": [
    "history = {}\n",
    "if train_network and not use_presimulation:\n",
    "    # simulation is done whenever needed\n",
    "    start_time = perf_counter()\n",
    "    history = trainer.train_online(epochs=max_epochs,\n",
    "                                  iterations_per_epoch=iterations_per_epoch,\n",
    "                                  batch_size=batch_size,\n",
    "                                  early_stopping=early_stopping,\n",
    "                                  validation_sims=iterations_per_epoch)\n",
    "    end_time = perf_counter()\n",
    "    print(f'training time: {(end_time-start_time)/60} minutes')"
   ],
   "metadata": {
    "collapsed": false
   },
   "id": "f2d096777fe7956c"
  },
  {
   "cell_type": "code",
   "execution_count": null,
   "id": "7ccb95e2",
   "metadata": {},
   "outputs": [],
   "source": [
    "if train_network and use_presimulation:\n",
    "    trainer._setup_optimizer(optimizer=None,\n",
    "                             epochs=max_epochs,\n",
    "                             iterations_per_epoch=iterations_per_epoch)"
   ]
  },
  {
   "cell_type": "code",
   "execution_count": null,
   "id": "8858bc0c",
   "metadata": {
    "scrolled": false
   },
   "outputs": [],
   "source": [
    "if train_network and use_presimulation:\n",
    "    # simulation done before\n",
    "    start_time = perf_counter()\n",
    "    history = trainer.train_from_presimulation(presimulation_path=presimulation_path,\n",
    "                                                  optimizer=trainer.optimizer,\n",
    "                                                  max_epochs=max_epochs,\n",
    "                                                  early_stopping=early_stopping,\n",
    "                                                  validation_sims=iterations_per_epoch)\n",
    "\n",
    "    end_time = perf_counter()\n",
    "    print(f'training time: {(end_time-start_time)/60} minutes')"
   ]
  },
  {
   "cell_type": "code",
   "execution_count": null,
   "id": "a9684cd7",
   "metadata": {},
   "outputs": [],
   "source": [
    "# load or save losses\n",
    "if train_network:\n",
    "    history['train_losses'].to_csv(f\"output/losses/{network_name}_train_losses.csv\")\n",
    "    history['val_losses'].to_csv(f\"output/losses/{network_name}_val_losses.csv\")\n",
    "else:\n",
    "    train_losses = pd.read_csv(f\"output/losses/{network_name}_train_losses.csv\", index_col=0)\n",
    "    val_losses = pd.read_csv(f\"output/losses/{network_name}_val_losses.csv\", index_col=0)\n",
    "    history = {'train_losses': train_losses,\n",
    "              'val_losses': val_losses}"
   ]
  },
  {
   "cell_type": "code",
   "execution_count": null,
   "id": "a6b15192",
   "metadata": {},
   "outputs": [],
   "source": [
    "fig_losses = diagnostics.plot_losses(history['train_losses'], history['val_losses'])\n",
    "if save_plots:\n",
    "    fig_losses.savefig(f'plots/calibration/{network_name}_fig_losses.png')"
   ]
  },
  {
   "cell_type": "code",
   "execution_count": null,
   "outputs": [],
   "source": [
    "# load data, simulate posterior and plot\n",
    "test_data = model.load_data(n_data=25)  # or load synthetic data with synthetic=True\n",
    "data_posterior_draws = model.draw_posterior_samples(data=test_data, n_samples=100)"
   ],
   "metadata": {
    "collapsed": false
   },
   "id": "e273381deae9877"
  },
  {
   "cell_type": "code",
   "execution_count": null,
   "outputs": [],
   "source": [
    "rows = 5\n",
    "fig, ax = plt.subplots(rows, int(np.ceil(len(test_data) / rows)), tight_layout=True, figsize=(10, rows*3))\n",
    "axis = ax.flatten()\n",
    "    \n",
    "for p_id in tqdm(range(len(test_data))):\n",
    "    axis[p_id] = model.prepare_plotting(test_data[p_id], data_posterior_draws[p_id], axis[p_id])\n",
    "    _, labels = axis[p_id].get_legend_handles_labels()\n",
    "\n",
    "fig.legend(labels, ncol=3, loc='upper center', bbox_to_anchor=(0.5, 1))\n",
    "if save_plots:\n",
    "    fig.savefig(f'plots/calibration/{network_name}_fit.png')\n",
    "plt.show()"
   ],
   "metadata": {
    "collapsed": false
   },
   "id": "735d55a89c5afbb8"
  },
  {
   "cell_type": "markdown",
   "id": "2a9fa2a8",
   "metadata": {},
   "source": [
    "## Get Posterior Parameter Samples and Plot Them Against True Values\n",
    "\n",
    "If the training is very short, one should see only uniformly distributed estimates.\n",
    "\n",
    "**quick and dirty validation:**\n",
    "\n",
    "\n",
    "If the model can generate data that is quite uninformative, the true posterior means may differ significantly from the ground truth parameter"
   ]
  },
  {
   "cell_type": "code",
   "execution_count": null,
   "id": "fb007564",
   "metadata": {
    "scrolled": false
   },
   "outputs": [],
   "source": [
    "new_sims = model.generate_simulations_from_prior(trainer=trainer,\n",
    "                                                 simulator=model.build_simulator(),\n",
    "                                                 n_samples=2500)"
   ]
  },
  {
   "cell_type": "code",
   "execution_count": null,
   "outputs": [],
   "source": [
    "posterior_draws = model.draw_posterior_samples(data=new_sims['summary_conditions'], n_samples=100)"
   ],
   "metadata": {
    "collapsed": false
   },
   "id": "22da05741f24c103"
  },
  {
   "cell_type": "code",
   "execution_count": null,
   "id": "ec9e0313",
   "metadata": {},
   "outputs": [],
   "source": [
    "fig_sbc = diagnostics.plot_sbc_histograms(post_samples=posterior_draws,\n",
    "                                          prior_samples=new_sims['parameters'],\n",
    "                                          param_names=model.log_param_names)\n",
    "\n",
    "#fig_sbc.axes[-1].set_visible(False)\n",
    "if save_plots:\n",
    "    fig_sbc.savefig(f'plots/calibration/{network_name}_fig_sbc.png')"
   ]
  },
  {
   "cell_type": "code",
   "execution_count": null,
   "id": "4ed81830",
   "metadata": {},
   "outputs": [],
   "source": [
    "fig_ecdf_diff = diagnostics.plot_sbc_ecdf(post_samples=posterior_draws,\n",
    "                                          prior_samples=new_sims['parameters'],\n",
    "                                          difference=True,\n",
    "                                          stacked=False,\n",
    "                                          param_names=model.log_param_names)\n",
    "\n",
    "if save_plots:\n",
    "    fig_ecdf_diff.savefig(f'plots/calibration/{network_name}_fig_ecdf_diff.png')"
   ]
  },
  {
   "cell_type": "code",
   "execution_count": null,
   "id": "d7add029",
   "metadata": {},
   "outputs": [],
   "source": [
    "fig_posterior = diagnostics.plot_posterior_2d(posterior_draws=posterior_draws[0],\n",
    "                                              prior=model.prior,\n",
    "                                              param_names=model.log_param_names)\n",
    "\n",
    "if save_plots:\n",
    "    fig_posterior.savefig(f'plots/calibration/{network_name}_fig_posterior.png')"
   ]
  },
  {
   "cell_type": "markdown",
   "id": "eec1d8e5",
   "metadata": {},
   "source": [
    "## Get SBC Plots for Different Epochs"
   ]
  },
  {
   "cell_type": "code",
   "execution_count": null,
   "id": "37567e08",
   "metadata": {},
   "outputs": [],
   "source": [
    "ckpt_list = []# [1, 10, 100, 200, 300, 400, 500]"
   ]
  },
  {
   "cell_type": "code",
   "execution_count": null,
   "id": "12de5011",
   "metadata": {
    "scrolled": false
   },
   "outputs": [],
   "source": [
    "for ckpt in ckpt_list:\n",
    "    print('Load checkpoint', ckpt)\n",
    "    # restore checkpoint\n",
    "    trainer.checkpoint.restore(path_store_network + f'/ckpt-{ckpt}')\n",
    "    # sample posterior\n",
    "    posterior_draws = model.draw_posterior_samples(data=new_sims['summary_conditions'], n_samples=250)\n",
    "\n",
    "    # make sbc plots\n",
    "    fig_ecdf_diff = diagnostics.plot_sbc_ecdf(post_samples=posterior_draws,\n",
    "                                              prior_samples=new_sims['parameters'],\n",
    "                                              difference=True,\n",
    "                                              stacked=False,\n",
    "                                              param_names=model.log_param_names)\n",
    "    if save_plots:\n",
    "        fig_ecdf_diff.savefig(f'plots/calibration/epochs_compare/{network_name}_fig_ecdf_diff_{ckpt}_.png')\n",
    "    plt.show()"
   ]
  },
  {
   "cell_type": "code",
   "execution_count": null,
   "id": "f5284c7a",
   "metadata": {},
   "outputs": [],
   "source": []
  }
 ],
 "metadata": {
  "kernelspec": {
   "display_name": "Python 3 (ipykernel)",
   "language": "python",
   "name": "python3"
  },
  "language_info": {
   "codemirror_mode": {
    "name": "ipython",
    "version": 3
   },
   "file_extension": ".py",
   "mimetype": "text/x-python",
   "name": "python",
   "nbconvert_exporter": "python",
   "pygments_lexer": "ipython3",
   "version": "3.9.16"
  }
 },
 "nbformat": 4,
 "nbformat_minor": 5
}
